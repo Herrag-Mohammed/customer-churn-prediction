{
 "cells": [
  {
   "cell_type": "code",
   "execution_count": 2,
   "id": "a311b5c4",
   "metadata": {},
   "outputs": [],
   "source": [
    "import pandas as pd\n",
    "import numpy as np\n",
    "from matplotlib import pyplot as plt\n",
    "import seaborn as sns\n",
    "from sklearn.preprocessing import StandardScaler\n",
    "from sklearn.preprocessing import KBinsDiscretizer\n",
    "from IPython.display import  display, HTML\n",
    "\n",
    "import warnings\n",
    "warnings.filterwarnings('ignore')"
   ]
  },
  {
   "cell_type": "markdown",
   "id": "dcec25f8",
   "metadata": {},
   "source": [
    "# 1. Introduction\n",
    "\n",
    "Informations sur l'ensemble de données\n",
    "\n",
    "Cet ensemble de données contient des informations sur les clients d'une entreprise de télécommunications fictive\n",
    "Cette société fournit divers services tels que le streaming, le téléphone et les services Internet.\n",
    "\n",
    "Informations sur les attributs\n",
    "\n",
    "CustomerID : ID client unique pour chaque client\n",
    "\n",
    "genre : si le client est un homme ou une femme\n",
    "\n",
    "SeniorCitizen : Si le client est un senior ou non (1, 0)\n",
    "\n",
    "Partenaire : Si le client a un partenaire ou non (Oui, Non)\n",
    "\n",
    "Dépendant : Si le client a des personnes à charge ou non (Oui, Non)\n",
    "\n",
    "tenure : Nombre de mois pendant lesquels le client a utilisé le service\n",
    "\n",
    "PhoneService : si le client dispose d'un service téléphonique ou non (Oui, Non)\n",
    "\n",
    "MultipeLines : Si le client a plusieurs lignes ou non (Oui, Non, Pas de service téléphonique)\n",
    "\n",
    "InternetService : fournisseur de services Internet du client (DSL, fibre optique, non)\n",
    "\n",
    "OnlineSecurity : si le client dispose ou non d'une sécurité en ligne (Oui, Non, Pas de service Internet)\n",
    "\n",
    "OnlineBackup : Si le client dispose ou non d'une sauvegarde en ligne (Oui, Non, Pas de service Internet)\n",
    "\n",
    "DeviceProtection : si le client dispose ou non d'une protection d'appareil (Oui, Non, Pas de service Internet)\n",
    "\n",
    "TechSupport : Si le client dispose d'un support technique ou non (Oui, Non, Pas de service Internet)\n",
    "\n",
    "StreamingTV : si le client dispose ou non de la télévision en streaming (oui, non, pas de service Internet)\n",
    "\n",
    "StreamingMovies : si le client a des films en streaming ou non (Oui, Non, Pas de service Internet)\n",
    "\n",
    "Contrat : la durée du contrat du client (mensuel, un an, deux ans)\n",
    "\n",
    "PaperlessBilling : facturation sans papiers (oui,non)\n",
    "\n",
    "PaymentMethod : Mode de paiement du client (Chèque électronique, Chèque postal, Virement bancaire (automatique), Carte de crédit (automatique))\n",
    "\n",
    "Ancienneté : nombre de mois pendant lesquels le client est resté dans l'entreprise\n",
    "\n",
    "MonthlyCharges : Le montant facturé au client mensuellement\n",
    "\n",
    "TotalCharges : le montant total facturé au client\n",
    "\n",
    "Churn : si le client s'est désabonné ou non (oui ou non)\n"
   ]
  },
  {
   "cell_type": "markdown",
   "id": "620a7053",
   "metadata": {},
   "source": [
    "# 2.préparation des données"
   ]
  },
  {
   "cell_type": "code",
   "execution_count": 3,
   "id": "00f99886",
   "metadata": {},
   "outputs": [
    {
     "data": {
      "text/html": [
       "<div>\n",
       "<style scoped>\n",
       "    .dataframe tbody tr th:only-of-type {\n",
       "        vertical-align: middle;\n",
       "    }\n",
       "\n",
       "    .dataframe tbody tr th {\n",
       "        vertical-align: top;\n",
       "    }\n",
       "\n",
       "    .dataframe thead th {\n",
       "        text-align: right;\n",
       "    }\n",
       "</style>\n",
       "<table border=\"1\" class=\"dataframe\">\n",
       "  <thead>\n",
       "    <tr style=\"text-align: right;\">\n",
       "      <th></th>\n",
       "      <th>customerID</th>\n",
       "      <th>gender</th>\n",
       "      <th>SeniorCitizen</th>\n",
       "      <th>Partner</th>\n",
       "      <th>Dependents</th>\n",
       "      <th>tenure</th>\n",
       "      <th>PhoneService</th>\n",
       "      <th>MultipleLines</th>\n",
       "      <th>InternetService</th>\n",
       "      <th>OnlineSecurity</th>\n",
       "      <th>...</th>\n",
       "      <th>DeviceProtection</th>\n",
       "      <th>TechSupport</th>\n",
       "      <th>StreamingTV</th>\n",
       "      <th>StreamingMovies</th>\n",
       "      <th>Contract</th>\n",
       "      <th>PaperlessBilling</th>\n",
       "      <th>PaymentMethod</th>\n",
       "      <th>MonthlyCharges</th>\n",
       "      <th>TotalCharges</th>\n",
       "      <th>Churn</th>\n",
       "    </tr>\n",
       "  </thead>\n",
       "  <tbody>\n",
       "    <tr>\n",
       "      <th>0</th>\n",
       "      <td>7590-VHVEG</td>\n",
       "      <td>Female</td>\n",
       "      <td>0</td>\n",
       "      <td>Yes</td>\n",
       "      <td>No</td>\n",
       "      <td>1</td>\n",
       "      <td>No</td>\n",
       "      <td>No phone service</td>\n",
       "      <td>DSL</td>\n",
       "      <td>No</td>\n",
       "      <td>...</td>\n",
       "      <td>No</td>\n",
       "      <td>No</td>\n",
       "      <td>No</td>\n",
       "      <td>No</td>\n",
       "      <td>Month-to-month</td>\n",
       "      <td>Yes</td>\n",
       "      <td>Electronic check</td>\n",
       "      <td>29.85</td>\n",
       "      <td>29.85</td>\n",
       "      <td>No</td>\n",
       "    </tr>\n",
       "    <tr>\n",
       "      <th>1</th>\n",
       "      <td>5575-GNVDE</td>\n",
       "      <td>Male</td>\n",
       "      <td>0</td>\n",
       "      <td>No</td>\n",
       "      <td>No</td>\n",
       "      <td>34</td>\n",
       "      <td>Yes</td>\n",
       "      <td>No</td>\n",
       "      <td>DSL</td>\n",
       "      <td>Yes</td>\n",
       "      <td>...</td>\n",
       "      <td>Yes</td>\n",
       "      <td>No</td>\n",
       "      <td>No</td>\n",
       "      <td>No</td>\n",
       "      <td>One year</td>\n",
       "      <td>No</td>\n",
       "      <td>Mailed check</td>\n",
       "      <td>56.95</td>\n",
       "      <td>1889.5</td>\n",
       "      <td>No</td>\n",
       "    </tr>\n",
       "    <tr>\n",
       "      <th>2</th>\n",
       "      <td>3668-QPYBK</td>\n",
       "      <td>Male</td>\n",
       "      <td>0</td>\n",
       "      <td>No</td>\n",
       "      <td>No</td>\n",
       "      <td>2</td>\n",
       "      <td>Yes</td>\n",
       "      <td>No</td>\n",
       "      <td>DSL</td>\n",
       "      <td>Yes</td>\n",
       "      <td>...</td>\n",
       "      <td>No</td>\n",
       "      <td>No</td>\n",
       "      <td>No</td>\n",
       "      <td>No</td>\n",
       "      <td>Month-to-month</td>\n",
       "      <td>Yes</td>\n",
       "      <td>Mailed check</td>\n",
       "      <td>53.85</td>\n",
       "      <td>108.15</td>\n",
       "      <td>Yes</td>\n",
       "    </tr>\n",
       "    <tr>\n",
       "      <th>3</th>\n",
       "      <td>7795-CFOCW</td>\n",
       "      <td>Male</td>\n",
       "      <td>0</td>\n",
       "      <td>No</td>\n",
       "      <td>No</td>\n",
       "      <td>45</td>\n",
       "      <td>No</td>\n",
       "      <td>No phone service</td>\n",
       "      <td>DSL</td>\n",
       "      <td>Yes</td>\n",
       "      <td>...</td>\n",
       "      <td>Yes</td>\n",
       "      <td>Yes</td>\n",
       "      <td>No</td>\n",
       "      <td>No</td>\n",
       "      <td>One year</td>\n",
       "      <td>No</td>\n",
       "      <td>Bank transfer (automatic)</td>\n",
       "      <td>42.30</td>\n",
       "      <td>1840.75</td>\n",
       "      <td>No</td>\n",
       "    </tr>\n",
       "    <tr>\n",
       "      <th>4</th>\n",
       "      <td>9237-HQITU</td>\n",
       "      <td>Female</td>\n",
       "      <td>0</td>\n",
       "      <td>No</td>\n",
       "      <td>No</td>\n",
       "      <td>2</td>\n",
       "      <td>Yes</td>\n",
       "      <td>No</td>\n",
       "      <td>Fiber optic</td>\n",
       "      <td>No</td>\n",
       "      <td>...</td>\n",
       "      <td>No</td>\n",
       "      <td>No</td>\n",
       "      <td>No</td>\n",
       "      <td>No</td>\n",
       "      <td>Month-to-month</td>\n",
       "      <td>Yes</td>\n",
       "      <td>Electronic check</td>\n",
       "      <td>70.70</td>\n",
       "      <td>151.65</td>\n",
       "      <td>Yes</td>\n",
       "    </tr>\n",
       "  </tbody>\n",
       "</table>\n",
       "<p>5 rows × 21 columns</p>\n",
       "</div>"
      ],
      "text/plain": [
       "   customerID  gender  SeniorCitizen Partner Dependents  tenure PhoneService  \\\n",
       "0  7590-VHVEG  Female              0     Yes         No       1           No   \n",
       "1  5575-GNVDE    Male              0      No         No      34          Yes   \n",
       "2  3668-QPYBK    Male              0      No         No       2          Yes   \n",
       "3  7795-CFOCW    Male              0      No         No      45           No   \n",
       "4  9237-HQITU  Female              0      No         No       2          Yes   \n",
       "\n",
       "      MultipleLines InternetService OnlineSecurity  ... DeviceProtection  \\\n",
       "0  No phone service             DSL             No  ...               No   \n",
       "1                No             DSL            Yes  ...              Yes   \n",
       "2                No             DSL            Yes  ...               No   \n",
       "3  No phone service             DSL            Yes  ...              Yes   \n",
       "4                No     Fiber optic             No  ...               No   \n",
       "\n",
       "  TechSupport StreamingTV StreamingMovies        Contract PaperlessBilling  \\\n",
       "0          No          No              No  Month-to-month              Yes   \n",
       "1          No          No              No        One year               No   \n",
       "2          No          No              No  Month-to-month              Yes   \n",
       "3         Yes          No              No        One year               No   \n",
       "4          No          No              No  Month-to-month              Yes   \n",
       "\n",
       "               PaymentMethod MonthlyCharges  TotalCharges Churn  \n",
       "0           Electronic check          29.85         29.85    No  \n",
       "1               Mailed check          56.95        1889.5    No  \n",
       "2               Mailed check          53.85        108.15   Yes  \n",
       "3  Bank transfer (automatic)          42.30       1840.75    No  \n",
       "4           Electronic check          70.70        151.65   Yes  \n",
       "\n",
       "[5 rows x 21 columns]"
      ]
     },
     "execution_count": 3,
     "metadata": {},
     "output_type": "execute_result"
    }
   ],
   "source": [
    "data=pd.read_csv('https://raw.githubusercontent.com/carlosfab/dsnp2/master/datasets/WA_Fn-UseC_-Telco-Customer-Churn.csv')\n",
    "data.head()"
   ]
  },
  {
   "cell_type": "code",
   "execution_count": 4,
   "id": "07df6086",
   "metadata": {},
   "outputs": [
    {
     "name": "stdout",
     "output_type": "stream",
     "text": [
      "nombre des Lignes : 7043\n",
      "nombre des Colonnes  : 21\n"
     ]
    }
   ],
   "source": [
    "print(f\"nombre des Lignes : {data.shape[0]}\")\n",
    "print(f\"nombre des Colonnes  : {data.shape[1]}\")"
   ]
  },
  {
   "cell_type": "code",
   "execution_count": 5,
   "id": "eabab7b6",
   "metadata": {},
   "outputs": [
    {
     "name": "stdout",
     "output_type": "stream",
     "text": [
      "data Features :\n",
      " ['customerID' 'gender' 'SeniorCitizen' 'Partner' 'Dependents' 'tenure'\n",
      " 'PhoneService' 'MultipleLines' 'InternetService' 'OnlineSecurity'\n",
      " 'OnlineBackup' 'DeviceProtection' 'TechSupport' 'StreamingTV'\n",
      " 'StreamingMovies' 'Contract' 'PaperlessBilling' 'PaymentMethod'\n",
      " 'MonthlyCharges' 'TotalCharges' 'Churn']\n"
     ]
    }
   ],
   "source": [
    "print(f\"data Features :\\n {data.columns.values}\")"
   ]
  },
  {
   "cell_type": "code",
   "execution_count": 6,
   "id": "9422c47b",
   "metadata": {},
   "outputs": [
    {
     "name": "stdout",
     "output_type": "stream",
     "text": [
      "data type columns :\n",
      "\n",
      " customerID           object\n",
      "gender               object\n",
      "SeniorCitizen         int64\n",
      "Partner              object\n",
      "Dependents           object\n",
      "tenure                int64\n",
      "PhoneService         object\n",
      "MultipleLines        object\n",
      "InternetService      object\n",
      "OnlineSecurity       object\n",
      "OnlineBackup         object\n",
      "DeviceProtection     object\n",
      "TechSupport          object\n",
      "StreamingTV          object\n",
      "StreamingMovies      object\n",
      "Contract             object\n",
      "PaperlessBilling     object\n",
      "PaymentMethod        object\n",
      "MonthlyCharges      float64\n",
      "TotalCharges         object\n",
      "Churn                object\n",
      "dtype: object\n"
     ]
    }
   ],
   "source": [
    "print(f\"data type columns :\\n\\n {data.dtypes}\")"
   ]
  },
  {
   "cell_type": "markdown",
   "id": "61e07211",
   "metadata": {},
   "source": [
    "normalement la colonne \"TotalCharges\" de type numerique pas catégoriel qui n'est pas le cas.\n",
    "\n",
    "donc prochaine étape on vas convertir la colonne \"TotalCharges\" a type numérique ."
   ]
  },
  {
   "cell_type": "code",
   "execution_count": 7,
   "id": "8ae327ff",
   "metadata": {},
   "outputs": [
    {
     "data": {
      "text/plain": [
       "customerID           0\n",
       "gender               0\n",
       "SeniorCitizen        0\n",
       "Partner              0\n",
       "Dependents           0\n",
       "tenure               0\n",
       "PhoneService         0\n",
       "MultipleLines        0\n",
       "InternetService      0\n",
       "OnlineSecurity       0\n",
       "OnlineBackup         0\n",
       "DeviceProtection     0\n",
       "TechSupport          0\n",
       "StreamingTV          0\n",
       "StreamingMovies      0\n",
       "Contract             0\n",
       "PaperlessBilling     0\n",
       "PaymentMethod        0\n",
       "MonthlyCharges       0\n",
       "TotalCharges        11\n",
       "Churn                0\n",
       "dtype: int64"
      ]
     },
     "execution_count": 7,
     "metadata": {},
     "output_type": "execute_result"
    }
   ],
   "source": [
    "data.TotalCharges = pd.to_numeric(data.TotalCharges, errors='coerce')\n",
    "data.isnull().sum()"
   ]
  },
  {
   "cell_type": "markdown",
   "id": "f673f6a0",
   "metadata": {},
   "source": [
    "on a le nombres des clients sont égaux à le nombres des lignes des données .\n",
    "\n",
    "donc il existe un client unique chaque lignes dans mes données et que 0.16% des clients qui ont des valeure manquant dans l’attribut 'TotalCharges'.\n",
    "\n",
    "\n",
    "\n",
    "alors on vas supprimer la colonne 'customerID'car il  n'importe aucune information et on vas supprimer les client qui ont des valeure manquantes dans notre données car le pourcentage des clients qui ont des valeures manquantes\n",
    "par rapport à l'ensemble de données total est très faible."
   ]
  },
  {
   "cell_type": "code",
   "execution_count": 8,
   "id": "983cbb53",
   "metadata": {},
   "outputs": [],
   "source": [
    "data.dropna(how = 'any', inplace = True)\n",
    "data.drop(\"customerID\", inplace = True,axis=1) "
   ]
  },
  {
   "cell_type": "markdown",
   "id": "e00ffeff",
   "metadata": {},
   "source": [
    "j'ai supprimé les valeurs manquantes et la colonnes \"customerID\" ."
   ]
  },
  {
   "cell_type": "code",
   "execution_count": 9,
   "id": "9f949721",
   "metadata": {},
   "outputs": [
    {
     "name": "stdout",
     "output_type": "stream",
     "text": [
      "Nombre de valeurs doubles :\t22\n"
     ]
    }
   ],
   "source": [
    "print(f'Nombre de valeurs doubles :\\t{data.duplicated().sum()}')"
   ]
  },
  {
   "cell_type": "markdown",
   "id": "e928228b",
   "metadata": {},
   "source": [
    "Cet ensemble de données ne contient aucune valeur en double. C'est bon signe."
   ]
  },
  {
   "cell_type": "code",
   "execution_count": 10,
   "id": "46a642ea",
   "metadata": {},
   "outputs": [
    {
     "data": {
      "text/html": [
       "<div>\n",
       "<style scoped>\n",
       "    .dataframe tbody tr th:only-of-type {\n",
       "        vertical-align: middle;\n",
       "    }\n",
       "\n",
       "    .dataframe tbody tr th {\n",
       "        vertical-align: top;\n",
       "    }\n",
       "\n",
       "    .dataframe thead th {\n",
       "        text-align: right;\n",
       "    }\n",
       "</style>\n",
       "<table border=\"1\" class=\"dataframe\">\n",
       "  <thead>\n",
       "    <tr style=\"text-align: right;\">\n",
       "      <th></th>\n",
       "      <th>SeniorCitizen</th>\n",
       "      <th>tenure</th>\n",
       "      <th>MonthlyCharges</th>\n",
       "      <th>TotalCharges</th>\n",
       "    </tr>\n",
       "  </thead>\n",
       "  <tbody>\n",
       "    <tr>\n",
       "      <th>count</th>\n",
       "      <td>7032.000000</td>\n",
       "      <td>7032.000000</td>\n",
       "      <td>7032.000000</td>\n",
       "      <td>7032.000000</td>\n",
       "    </tr>\n",
       "    <tr>\n",
       "      <th>mean</th>\n",
       "      <td>0.162400</td>\n",
       "      <td>32.421786</td>\n",
       "      <td>64.798208</td>\n",
       "      <td>2283.300441</td>\n",
       "    </tr>\n",
       "    <tr>\n",
       "      <th>std</th>\n",
       "      <td>0.368844</td>\n",
       "      <td>24.545260</td>\n",
       "      <td>30.085974</td>\n",
       "      <td>2266.771362</td>\n",
       "    </tr>\n",
       "    <tr>\n",
       "      <th>min</th>\n",
       "      <td>0.000000</td>\n",
       "      <td>1.000000</td>\n",
       "      <td>18.250000</td>\n",
       "      <td>18.800000</td>\n",
       "    </tr>\n",
       "    <tr>\n",
       "      <th>25%</th>\n",
       "      <td>0.000000</td>\n",
       "      <td>9.000000</td>\n",
       "      <td>35.587500</td>\n",
       "      <td>401.450000</td>\n",
       "    </tr>\n",
       "    <tr>\n",
       "      <th>50%</th>\n",
       "      <td>0.000000</td>\n",
       "      <td>29.000000</td>\n",
       "      <td>70.350000</td>\n",
       "      <td>1397.475000</td>\n",
       "    </tr>\n",
       "    <tr>\n",
       "      <th>75%</th>\n",
       "      <td>0.000000</td>\n",
       "      <td>55.000000</td>\n",
       "      <td>89.862500</td>\n",
       "      <td>3794.737500</td>\n",
       "    </tr>\n",
       "    <tr>\n",
       "      <th>max</th>\n",
       "      <td>1.000000</td>\n",
       "      <td>72.000000</td>\n",
       "      <td>118.750000</td>\n",
       "      <td>8684.800000</td>\n",
       "    </tr>\n",
       "  </tbody>\n",
       "</table>\n",
       "</div>"
      ],
      "text/plain": [
       "       SeniorCitizen       tenure  MonthlyCharges  TotalCharges\n",
       "count    7032.000000  7032.000000     7032.000000   7032.000000\n",
       "mean        0.162400    32.421786       64.798208   2283.300441\n",
       "std         0.368844    24.545260       30.085974   2266.771362\n",
       "min         0.000000     1.000000       18.250000     18.800000\n",
       "25%         0.000000     9.000000       35.587500    401.450000\n",
       "50%         0.000000    29.000000       70.350000   1397.475000\n",
       "75%         0.000000    55.000000       89.862500   3794.737500\n",
       "max         1.000000    72.000000      118.750000   8684.800000"
      ]
     },
     "execution_count": 10,
     "metadata": {},
     "output_type": "execute_result"
    }
   ],
   "source": [
    "data.describe()"
   ]
  },
  {
   "cell_type": "markdown",
   "id": "c429a05e",
   "metadata": {},
   "source": [
    "on trouve que les collones 'MonthlyCharges' et 'TotalCharges' a un grand ecart entre la valeure minimale et maximale ."
   ]
  },
  {
   "cell_type": "markdown",
   "id": "7f167cba",
   "metadata": {},
   "source": [
    "Standardisation signifie généralement que les données sont remises à l'échelle pour avoir une moyenne de 0 et un écart type de 1 (loi normale).\n",
    "\n",
    "c'est bient que la distribution de notre données suive la loi normale.\n",
    "\n",
    "car La loi normale est remarquable par le fait qu'elle décrit une grande partie des phénomènes naturels.\n",
    " "
   ]
  },
  {
   "cell_type": "code",
   "execution_count": 11,
   "id": "db2a29a2",
   "metadata": {},
   "outputs": [
    {
     "data": {
      "text/plain": [
       "gender              2\n",
       "Partner             2\n",
       "Dependents          2\n",
       "PhoneService        2\n",
       "MultipleLines       3\n",
       "InternetService     3\n",
       "OnlineSecurity      3\n",
       "OnlineBackup        3\n",
       "DeviceProtection    3\n",
       "TechSupport         3\n",
       "StreamingTV         3\n",
       "StreamingMovies     3\n",
       "Contract            3\n",
       "PaperlessBilling    2\n",
       "PaymentMethod       4\n",
       "Churn               2\n",
       "Name: unique, dtype: object"
      ]
     },
     "execution_count": 11,
     "metadata": {},
     "output_type": "execute_result"
    }
   ],
   "source": [
    "data.describe(include=['object']).T.unique"
   ]
  },
  {
   "cell_type": "code",
   "execution_count": 12,
   "id": "139a6a89",
   "metadata": {},
   "outputs": [],
   "source": [
    "'''labels=['1 - 12','13 - 24','15 - 36','37 - 48','49 - 60','> 61']\n",
    "data['TenureGroup']=pd.qcut(data.tenure, 6, labels=labels,precision = 6)'''\n",
    "l=[]\n",
    "for i in data.index:\n",
    "    if data.tenure[i]<=12:\n",
    "        l.append('1 - 12')\n",
    "    elif data.tenure[i]<=24 and data.tenure[i]>12:\n",
    "        l.append('13 - 24')\n",
    "    elif data.tenure[i]<=36 and data.tenure[i]>14:\n",
    "        l.append('15 - 36')\n",
    "    elif data.tenure[i]<=48 and data.tenure[i]>36:\n",
    "        l.append('37 - 48')\n",
    "    elif data.tenure[i]<=60 and data.tenure[i]>48:\n",
    "        l.append('49 - 60')\n",
    "    else:\n",
    "        l.append('> 61')\n",
    "\n",
    "data['TenureGroup']= l"
   ]
  },
  {
   "cell_type": "code",
   "execution_count": 13,
   "id": "95722ac1",
   "metadata": {},
   "outputs": [
    {
     "data": {
      "text/html": [
       "<div>\n",
       "<style scoped>\n",
       "    .dataframe tbody tr th:only-of-type {\n",
       "        vertical-align: middle;\n",
       "    }\n",
       "\n",
       "    .dataframe tbody tr th {\n",
       "        vertical-align: top;\n",
       "    }\n",
       "\n",
       "    .dataframe thead th {\n",
       "        text-align: right;\n",
       "    }\n",
       "</style>\n",
       "<table border=\"1\" class=\"dataframe\">\n",
       "  <thead>\n",
       "    <tr style=\"text-align: right;\">\n",
       "      <th></th>\n",
       "      <th>countTenureGroup</th>\n",
       "    </tr>\n",
       "  </thead>\n",
       "  <tbody>\n",
       "    <tr>\n",
       "      <th>1 - 12</th>\n",
       "      <td>2175</td>\n",
       "    </tr>\n",
       "    <tr>\n",
       "      <th>&gt; 61</th>\n",
       "      <td>1407</td>\n",
       "    </tr>\n",
       "    <tr>\n",
       "      <th>13 - 24</th>\n",
       "      <td>1024</td>\n",
       "    </tr>\n",
       "    <tr>\n",
       "      <th>15 - 36</th>\n",
       "      <td>832</td>\n",
       "    </tr>\n",
       "    <tr>\n",
       "      <th>49 - 60</th>\n",
       "      <td>832</td>\n",
       "    </tr>\n",
       "    <tr>\n",
       "      <th>37 - 48</th>\n",
       "      <td>762</td>\n",
       "    </tr>\n",
       "  </tbody>\n",
       "</table>\n",
       "</div>"
      ],
      "text/plain": [
       "         countTenureGroup\n",
       "1 - 12               2175\n",
       "> 61                 1407\n",
       "13 - 24              1024\n",
       "15 - 36               832\n",
       "49 - 60               832\n",
       "37 - 48               762"
      ]
     },
     "execution_count": 13,
     "metadata": {},
     "output_type": "execute_result"
    }
   ],
   "source": [
    "countTenureGroup= pd.DataFrame(data['TenureGroup'].value_counts())\n",
    "countTenureGroup.columns = ['countTenureGroup']\n",
    "countTenureGroup"
   ]
  },
  {
   "cell_type": "markdown",
   "id": "7b6f1d3c",
   "metadata": {},
   "source": [
    "# 3.Exploration des données"
   ]
  },
  {
   "cell_type": "code",
   "execution_count": 14,
   "id": "7e3db647",
   "metadata": {},
   "outputs": [
    {
     "data": {
      "image/png": "[encoded data removed]",
      "text/plain": [
       "<Figure size 576x432 with 1 Axes>"
      ]
     },
     "metadata": {},
     "output_type": "display_data"
    }
   ],
   "source": [
    "pie_data = data['Churn'].value_counts(normalize=True).values * 100\n",
    "pie_label = data['Churn'].value_counts(normalize=True).index.to_list()\n",
    "\n",
    "fig, ax = plt.subplots(figsize=(8,6))\n",
    "\n",
    "wedges, texts, autotexts = ax.pie(pie_data, labels=pie_label,colors=['green','red'],\n",
    "                                  startangle=90, explode=[0, 0.1],\n",
    "                                  autopct='%.0f%%',\n",
    "                                  textprops={'color':'w', 'fontsize':16, 'weight':'bold'})\n",
    "\n",
    "for i, wedge in enumerate(wedges):\n",
    "    texts[i].set_color(wedge.get_facecolor())\n",
    "\n",
    "plt.tight_layout()\n",
    "plt.show()"
   ]
  },
  {
   "cell_type": "markdown",
   "id": "a6db5fb8",
   "metadata": {},
   "source": [
    "Comme on peut le voir, 27% des clients quittent les services. Techniquement parlant, cet ensemble de données est un ensemble de données déséquilibré, et C'est un problème de classification binaire."
   ]
  },
  {
   "cell_type": "code",
   "execution_count": 15,
   "id": "e1c3e024",
   "metadata": {
    "scrolled": false
   },
   "outputs": [
    {
     "data": {
      "application/vnd.jupyter.widget-view+json": {
       "model_id": "22fce83a070a419881b9b5a7caca0f4e",
       "version_major": 2,
       "version_minor": 0
      },
      "text/plain": [
       "interactive(children=(Dropdown(description='col', options=('gender', 'SeniorCitizen', 'Partner', 'Dependents',…"
      ]
     },
     "metadata": {},
     "output_type": "display_data"
    },
    {
     "data": {
      "text/plain": [
       "<function __main__.countplot_hue(df, col)>"
      ]
     },
     "metadata": {},
     "output_type": "display_data"
    }
   ],
   "source": [
    "import ipywidgets as widgets\n",
    "\"\"\"def countplot(data,col):\n",
    "    total=data.shape[0]\n",
    "    ax = sns.countplot(x=col, data=data)\n",
    "    for p in ax.patches:\n",
    "\n",
    "        percentage = '{:.1f}%'.format(100 * p.get_height()/total)\n",
    "        x = p.get_x() + p.get_width()/2\n",
    "        y = p.get_height()+p.get_height()*0.01\n",
    "        ax.annotate(percentage, (x, y),ha='center')\n",
    "    plt.show()\"\"\"\n",
    "\n",
    "def countplot_hue(df,col) :\n",
    "\n",
    "    plt.figure(figsize=(15,8))\n",
    "    \n",
    "    #1er graphe\n",
    "    plt.subplot(1,2,1)\n",
    "    grouped_df = df.groupby(col).size().reset_index(name=\"Count\")\n",
    "    l=list(grouped_df.Count)\n",
    "    ax = sns.countplot(data=df, x=col, hue='Churn',palette=['green','red'])\n",
    "    for p,i in zip( ax.patches,l+l):\n",
    "        percentage = str((p.get_height()*100/i).round(2)) + '%'\n",
    "        x = p.get_x() + p.get_width()/2\n",
    "        y = p.get_height()+p.get_height()*0.01\n",
    "        ax.annotate(percentage, (x, y),ha='center') \n",
    "    \n",
    "    \n",
    "    #2eme graph\n",
    "    plt.subplot(1,2,2)\n",
    "    total=data.shape[0]\n",
    "    ax = sns.countplot(x=col, data=data,palette='Paired')\n",
    "    for p in ax.patches:\n",
    "        percentage = '{:.1f}%'.format(100 * p.get_height()/total)\n",
    "        x = p.get_x() + p.get_width()/2\n",
    "        y = p.get_height()+p.get_height()*0.01\n",
    "        ax.annotate(percentage, (x, y),ha='center')\n",
    "    plt.show()\n",
    "    \n",
    "K=['tenure', 'TotalCharges', 'MonthlyCharges']\n",
    "data_copy = data.copy()\n",
    "data_copy.drop(K, inplace = True,axis=1) \n",
    "\n",
    "display(widgets.interact(countplot_hue,df=widgets.fixed(data_copy),col=data_copy.columns.drop('Churn')))"
   ]
  },
  {
   "cell_type": "markdown",
   "id": "a306944c",
   "metadata": {},
   "source": [
    "1. gender :\n",
    "\n",
    "le sexe n'est pas significative pour notre étude car ils disposent du même pourcentage .\n",
    "\n",
    "2. SeniorCitizen :\n",
    "\n",
    "Il y a une proportion plus élevée de désabonnement chez les clients plus jeunes (SeniorCitizen = Non), Les clients les plus âgés sont plus susceptibles de se désabonner . \n",
    "\n",
    "3. partner :\n",
    "\n",
    "Les clients qui n'ont pas de partenaire sont plus susceptibles de se désabonner .\n",
    "\n",
    "4. Dependents :\n",
    "\n",
    "on Remarque que 70% des clients n'ont pas des personnes à charge et qu'ils sont plus susceptibles de se désabonner.\n",
    "\n",
    "5. PhoneService:\n",
    "\n",
    "Environ 90,3% des clients ont des services téléphoniques et ont un taux de désabonnement plus élevé.\n",
    "\n",
    "6. MultiLines:\n",
    "\n",
    "les client qui disposent de plusieurs lignes sont un peu plus susceptibles de se désabonner que les clients qui n'ont qu'une seule ligne.\n",
    "\n",
    "7. InternetService:\n",
    "\n",
    "Les clients qui ont la fibre optique comme service Internet sont plus susceptibles de se désabonner. Le service de fibre optique est beaucoup plus cher que le DSL, ce qui peut être l'une des raisons de désabonnement des clients.\n",
    "\n",
    "8. OnlineSecurity , OnlineBackup , DeviceProtection ,TechSupport:\n",
    "\n",
    "Les clients avec OnlineSecurity, OnlineBackup, DeviceProtection et TechSupport sont moins susceptibles de se désabonner car generalement ces clients sont des entreprises. \n",
    "\n",
    "9. streamingTV, streamingMovies:\n",
    "\n",
    "streamingTV,streamingMovies ne sont pas significatives pour notre étude car ils sont réparti uniformément entre les options oui et non.\n",
    "\n",
    "10. Contract:\n",
    "\n",
    "plus le contrat est court, plus le taux de désabonnement est élevé.\n",
    "\n",
    "11. paperlessBilling:\n",
    "\n",
    "on remarque que 59% des clients utilisent la facturation sans papier. Le taux de désabonnement est plus élevé pour les clients qui ont opté pour la facturation sans papier.\n",
    "\n",
    "12. PaymentMethod:\n",
    "\n",
    "le type de paiement \"chèques électroniques\" est plus courant, Les clients qui paient avec cette methode sont plus susceptibles de se désabonner.\n",
    "\n",
    "13. TenureGroup:\n",
    "\n",
    "les clients qui utilisent les service mois d'un an sont les plus susceptibles de se désabonner, par contre les client dont l'utilisation du service dépasse 5 ans sans les plus fidèles .\n"
   ]
  },
  {
   "cell_type": "code",
   "execution_count": 16,
   "id": "650a719c",
   "metadata": {},
   "outputs": [
    {
     "data": {
      "application/vnd.jupyter.widget-view+json": {
       "model_id": "1a4e35f483bc4f1eb8563efbdc85a6ec",
       "version_major": 2,
       "version_minor": 0
      },
      "text/plain": [
       "interactive(children=(Dropdown(description='col', options=('tenure', 'TotalCharges', 'MonthlyCharges'), value=…"
      ]
     },
     "metadata": {},
     "output_type": "display_data"
    },
    {
     "data": {
      "text/plain": [
       "<function __main__.kdeplot(data, col)>"
      ]
     },
     "metadata": {},
     "output_type": "display_data"
    }
   ],
   "source": [
    "K=[ 'tenure','TotalCharges', 'MonthlyCharges','Churn']\n",
    "def kdeplot(data,col):\n",
    "    Mth = sns.kdeplot(data[col][(data[\"Churn\"] == 'No') ],color=\"green\", shade = True)\n",
    "    Mth = sns.kdeplot(data[col][(data[\"Churn\"] == 'Yes') ],ax =Mth, color=\"red\", shade= True)\n",
    "    Mth.legend([\"No\",\"yes\"],loc='upper right')\n",
    "    Mth.set_ylabel('Density')\n",
    "    Mth.set_xlabel(col)\n",
    "    Mth.set_title(f'{col} par désabonnement')\n",
    "    \n",
    "display(widgets.interact(kdeplot,data=widgets.fixed(data[K]),col=data[K].columns.drop('Churn')))"
   ]
  },
  {
   "cell_type": "markdown",
   "id": "6f9e305b",
   "metadata": {},
   "source": [
    "* dans le graphe tenure:  Ici il y a plus de désabonnement qui utilise le service entre 0 et 22 mois.\n",
    " \n",
    "\n",
    "* dans le graphe MonthlyCharges:  Ici, il est évident que lorsque le taux de désabonnement est élevé, les frais sont élevés.\n",
    "\n",
    "\n",
    "* dans le graphe TotalCharges:  Ici, nous obtenons l'idée surprenante que, comme nous pouvons le voir, il y a plus de désabonnement avec des charge totale inférieurs."
   ]
  },
  {
   "cell_type": "markdown",
   "id": "c677c2e9",
   "metadata": {},
   "source": [
    "#### étiqueter les données"
   ]
  },
  {
   "cell_type": "code",
   "execution_count": 17,
   "id": "9121b3a2",
   "metadata": {},
   "outputs": [],
   "source": [
    "data.drop('TenureGroup',axis=1,inplace=True)"
   ]
  },
  {
   "cell_type": "code",
   "execution_count": 18,
   "id": "d19cdc3d",
   "metadata": {},
   "outputs": [
    {
     "name": "stdout",
     "output_type": "stream",
     "text": [
      "14 columns were label encoded.\n",
      "les colonnes encoder: ['Partner', 'Dependents', 'PhoneService', 'MultipleLines', 'InternetService', 'OnlineSecurity', 'OnlineBackup', 'DeviceProtection', 'TechSupport', 'StreamingTV', 'StreamingMovies', 'Contract', 'PaperlessBilling', 'PaymentMethod']\n"
     ]
    }
   ],
   "source": [
    "from sklearn.preprocessing import LabelEncoder\n",
    "\n",
    "data.Churn = np.where(data.Churn == 'Yes',1,0)\n",
    "\n",
    "le = LabelEncoder()\n",
    "le_count = 0\n",
    "columns=[]\n",
    "for col in data.columns[1:]:\n",
    "    if data[col].dtypes == 'O':\n",
    "        \n",
    "        le.fit(data[col])\n",
    "        data[col] = le.transform(data[col])\n",
    "        le_count += 1\n",
    "        columns.append(col)\n",
    "print(f'{le_count} columns were label encoded.')\n",
    "print(f'les colonnes encoder: {columns}')\n"
   ]
  },
  {
   "cell_type": "code",
   "execution_count": 19,
   "id": "d970eec3",
   "metadata": {},
   "outputs": [
    {
     "data": {
      "text/html": [
       "<div>\n",
       "<style scoped>\n",
       "    .dataframe tbody tr th:only-of-type {\n",
       "        vertical-align: middle;\n",
       "    }\n",
       "\n",
       "    .dataframe tbody tr th {\n",
       "        vertical-align: top;\n",
       "    }\n",
       "\n",
       "    .dataframe thead th {\n",
       "        text-align: right;\n",
       "    }\n",
       "</style>\n",
       "<table border=\"1\" class=\"dataframe\">\n",
       "  <thead>\n",
       "    <tr style=\"text-align: right;\">\n",
       "      <th></th>\n",
       "      <th>gender</th>\n",
       "      <th>SeniorCitizen</th>\n",
       "      <th>Partner</th>\n",
       "      <th>Dependents</th>\n",
       "      <th>tenure</th>\n",
       "      <th>PhoneService</th>\n",
       "      <th>MultipleLines</th>\n",
       "      <th>InternetService</th>\n",
       "      <th>OnlineSecurity</th>\n",
       "      <th>OnlineBackup</th>\n",
       "      <th>DeviceProtection</th>\n",
       "      <th>TechSupport</th>\n",
       "      <th>StreamingTV</th>\n",
       "      <th>StreamingMovies</th>\n",
       "      <th>Contract</th>\n",
       "      <th>PaperlessBilling</th>\n",
       "      <th>PaymentMethod</th>\n",
       "      <th>MonthlyCharges</th>\n",
       "      <th>TotalCharges</th>\n",
       "      <th>Churn</th>\n",
       "    </tr>\n",
       "  </thead>\n",
       "  <tbody>\n",
       "    <tr>\n",
       "      <th>0</th>\n",
       "      <td>1</td>\n",
       "      <td>0</td>\n",
       "      <td>1</td>\n",
       "      <td>0</td>\n",
       "      <td>1</td>\n",
       "      <td>0</td>\n",
       "      <td>1</td>\n",
       "      <td>0</td>\n",
       "      <td>0</td>\n",
       "      <td>2</td>\n",
       "      <td>0</td>\n",
       "      <td>0</td>\n",
       "      <td>0</td>\n",
       "      <td>0</td>\n",
       "      <td>0</td>\n",
       "      <td>1</td>\n",
       "      <td>2</td>\n",
       "      <td>29.85</td>\n",
       "      <td>29.85</td>\n",
       "      <td>0</td>\n",
       "    </tr>\n",
       "    <tr>\n",
       "      <th>1</th>\n",
       "      <td>0</td>\n",
       "      <td>0</td>\n",
       "      <td>0</td>\n",
       "      <td>0</td>\n",
       "      <td>34</td>\n",
       "      <td>1</td>\n",
       "      <td>0</td>\n",
       "      <td>0</td>\n",
       "      <td>2</td>\n",
       "      <td>0</td>\n",
       "      <td>2</td>\n",
       "      <td>0</td>\n",
       "      <td>0</td>\n",
       "      <td>0</td>\n",
       "      <td>1</td>\n",
       "      <td>0</td>\n",
       "      <td>3</td>\n",
       "      <td>56.95</td>\n",
       "      <td>1889.50</td>\n",
       "      <td>0</td>\n",
       "    </tr>\n",
       "    <tr>\n",
       "      <th>2</th>\n",
       "      <td>0</td>\n",
       "      <td>0</td>\n",
       "      <td>0</td>\n",
       "      <td>0</td>\n",
       "      <td>2</td>\n",
       "      <td>1</td>\n",
       "      <td>0</td>\n",
       "      <td>0</td>\n",
       "      <td>2</td>\n",
       "      <td>2</td>\n",
       "      <td>0</td>\n",
       "      <td>0</td>\n",
       "      <td>0</td>\n",
       "      <td>0</td>\n",
       "      <td>0</td>\n",
       "      <td>1</td>\n",
       "      <td>3</td>\n",
       "      <td>53.85</td>\n",
       "      <td>108.15</td>\n",
       "      <td>1</td>\n",
       "    </tr>\n",
       "    <tr>\n",
       "      <th>3</th>\n",
       "      <td>0</td>\n",
       "      <td>0</td>\n",
       "      <td>0</td>\n",
       "      <td>0</td>\n",
       "      <td>45</td>\n",
       "      <td>0</td>\n",
       "      <td>1</td>\n",
       "      <td>0</td>\n",
       "      <td>2</td>\n",
       "      <td>0</td>\n",
       "      <td>2</td>\n",
       "      <td>2</td>\n",
       "      <td>0</td>\n",
       "      <td>0</td>\n",
       "      <td>1</td>\n",
       "      <td>0</td>\n",
       "      <td>0</td>\n",
       "      <td>42.30</td>\n",
       "      <td>1840.75</td>\n",
       "      <td>0</td>\n",
       "    </tr>\n",
       "    <tr>\n",
       "      <th>4</th>\n",
       "      <td>1</td>\n",
       "      <td>0</td>\n",
       "      <td>0</td>\n",
       "      <td>0</td>\n",
       "      <td>2</td>\n",
       "      <td>1</td>\n",
       "      <td>0</td>\n",
       "      <td>1</td>\n",
       "      <td>0</td>\n",
       "      <td>0</td>\n",
       "      <td>0</td>\n",
       "      <td>0</td>\n",
       "      <td>0</td>\n",
       "      <td>0</td>\n",
       "      <td>0</td>\n",
       "      <td>1</td>\n",
       "      <td>2</td>\n",
       "      <td>70.70</td>\n",
       "      <td>151.65</td>\n",
       "      <td>1</td>\n",
       "    </tr>\n",
       "  </tbody>\n",
       "</table>\n",
       "</div>"
      ],
      "text/plain": [
       "   gender  SeniorCitizen  Partner  Dependents  tenure  PhoneService  \\\n",
       "0       1              0        1           0       1             0   \n",
       "1       0              0        0           0      34             1   \n",
       "2       0              0        0           0       2             1   \n",
       "3       0              0        0           0      45             0   \n",
       "4       1              0        0           0       2             1   \n",
       "\n",
       "   MultipleLines  InternetService  OnlineSecurity  OnlineBackup  \\\n",
       "0              1                0               0             2   \n",
       "1              0                0               2             0   \n",
       "2              0                0               2             2   \n",
       "3              1                0               2             0   \n",
       "4              0                1               0             0   \n",
       "\n",
       "   DeviceProtection  TechSupport  StreamingTV  StreamingMovies  Contract  \\\n",
       "0                 0            0            0                0         0   \n",
       "1                 2            0            0                0         1   \n",
       "2                 0            0            0                0         0   \n",
       "3                 2            2            0                0         1   \n",
       "4                 0            0            0                0         0   \n",
       "\n",
       "   PaperlessBilling  PaymentMethod  MonthlyCharges  TotalCharges  Churn  \n",
       "0                 1              2           29.85         29.85      0  \n",
       "1                 0              3           56.95       1889.50      0  \n",
       "2                 1              3           53.85        108.15      1  \n",
       "3                 0              0           42.30       1840.75      0  \n",
       "4                 1              2           70.70        151.65      1  "
      ]
     },
     "execution_count": 19,
     "metadata": {},
     "output_type": "execute_result"
    }
   ],
   "source": [
    "data['gender'] = np.where(data.gender == 'Female',1,0)\n",
    "data.head()"
   ]
  },
  {
   "cell_type": "markdown",
   "id": "96544a03",
   "metadata": {},
   "source": [
    "#### la correlation entre les attributs et la variable cible"
   ]
  },
  {
   "cell_type": "code",
   "execution_count": 20,
   "id": "d207f564",
   "metadata": {
    "scrolled": false
   },
   "outputs": [
    {
     "data": {
      "text/plain": [
       "Text(0.5, 1.0, 'Correlation with Churn Rate \\n')"
      ]
     },
     "execution_count": 20,
     "metadata": {},
     "output_type": "execute_result"
    },
    {
     "data": {
      "image/png": "[encoded data removed]",
      "text/plain": [
       "<Figure size 1296x720 with 1 Axes>"
      ]
     },
     "metadata": {
      "needs_background": "light"
     },
     "output_type": "display_data"
    }
   ],
   "source": [
    "correlations = data.corrwith(data.Churn)\n",
    "correlations = correlations[correlations!=1]\n",
    "\n",
    "correlations.plot.bar(\n",
    "        figsize = (18, 10), \n",
    "        fontsize = 15, \n",
    "        color = '#ec838a',\n",
    "        rot = 45, grid = True)\n",
    "plt.title('Correlation with Churn Rate \\n',\n",
    "horizontalalignment=\"center\", fontstyle = \"normal\", \n",
    "fontsize = \"22\", fontfamily = \"sans-serif\")\n"
   ]
  },
  {
   "cell_type": "markdown",
   "id": "e7963d9a",
   "metadata": {},
   "source": [
    "Eh bien, ici, nous pouvons voir l'association de chaque attribut avec la variable cible , qu'il s'agisse de conservation ou d'attrition.\n",
    "\n",
    "Comme nous pouvons le voir, Contract, tenure et OnlineSecurity et TechSuppoert sont les 4 attributs qui ont la relation la plus forte avec le statut de désabonnement(Churn).\n",
    "\n",
    "Pendant ce temps, gender, PhoneService MultipleLines, internetServices,StreaminTV et StreaminMovies sont les 6 attributs qui ont la relation la plus faible avec le statut de désabonnement (Churn).\n",
    "\n",
    "Rappelez-vous toujours que \"corrélation n'implique pas causalité\". J'essaie simplement de comprendre la relation entre les attributs et la variable cible, pas la causalité entre eux.\n",
    "\n",
    "car qu'un coefficient de corrélation de zéro ou proche de zéro ne signifie pas forcément qu'il n'existe pas de relation entre les variables.\n"
   ]
  },
  {
   "cell_type": "markdown",
   "id": "c82f1baf",
   "metadata": {},
   "source": [
    "#### la corrélation entre les attributs :"
   ]
  },
  {
   "cell_type": "code",
   "execution_count": 21,
   "id": "004d97c5",
   "metadata": {},
   "outputs": [
    {
     "data": {
      "text/plain": [
       "<AxesSubplot:>"
      ]
     },
     "execution_count": 21,
     "metadata": {},
     "output_type": "execute_result"
    },
    {
     "data": {
      "image/png": "[encoded data removed]",
      "text/plain": [
       "<Figure size 1440x1080 with 2 Axes>"
      ]
     },
     "metadata": {
      "needs_background": "light"
     },
     "output_type": "display_data"
    }
   ],
   "source": [
    "corr = data.corr()\n",
    "mask = np.zeros_like(corr)\n",
    "mask[np.triu_indices_from(mask)] = True\n",
    "plt.figure(figsize=(20,15))\n",
    "sns.heatmap(data.corr(),annot=True, square=True,cmap='Paired',mask=mask)"
   ]
  },
  {
   "cell_type": "markdown",
   "id": "33d34da6",
   "metadata": {},
   "source": [
    "#### Vérifier la multicolinéarité à l'aide de VIF"
   ]
  },
  {
   "cell_type": "markdown",
   "id": "a5dac4b1",
   "metadata": {},
   "source": [
    "Une méthode simple pour détecter la multicolinéarité dans un modèle consiste à utiliser quelque chose appelé lefacteur d'inflation de la varianceou laVIFpour chaque variable prédictive.\n",
    "\n",
    "\n",
    "Le VIF mesure le rapport entre la variance pour un coefficient de régression donné avec uniquement cette variable dans le modèle et la variance pour un coefficient de régression donné avec toutes les variables du modèle.\n",
    "\n",
    "Un VIF de 1 (le VIF minimum possible) signifie que le prédicteur testé n'est pas corrélé avec les autres prédicteurs. Un VIF de 1 (le VIF minimum possible) signifie que le prédicteur testé n'est pas corrélé avec les autres prédicteurs.\n",
    "\n",
    "Plus le VIF est élevé,\n",
    "\n",
    "Plus un prédicteur est corrélé avec les autres prédicteurs\n",
    "Plus l'erreur standard est gonflée\n",
    "Plus l'intervalle de confiance est grand\n",
    "Moins il est probable qu'un coefficient soit évalué comme statistiquement significatif\n",
    "Un VIF acceptable est s'il est inférieur au maximum de 10 et du modèle 1/1-R² (voir ci-dessous) :\n",
    "   \n",
    "<img src=\"vif_image.png\">\n",
    "\n",
    "\n"
   ]
  },
  {
   "cell_type": "code",
   "execution_count": 22,
   "id": "aa4b3ca1",
   "metadata": {
    "scrolled": false
   },
   "outputs": [
    {
     "data": {
      "application/vnd.jupyter.widget-view+json": {
       "model_id": "841ea1b14e014e25abb866541ec02f67",
       "version_major": 2,
       "version_minor": 0
      },
      "text/plain": [
       "interactive(children=(SelectMultiple(description='Colonnes:', index=(19,), options=('gender', 'SeniorCitizen',…"
      ]
     },
     "metadata": {},
     "output_type": "display_data"
    },
    {
     "data": {
      "text/plain": [
       "<function __main__.suppression_var(col)>"
      ]
     },
     "metadata": {},
     "output_type": "display_data"
    }
   ],
   "source": [
    "from statsmodels.stats.outliers_influence import variance_inflation_factor\n",
    "\n",
    "def calc_vif(X):\n",
    "\n",
    "    # Calculating VIF\n",
    "    vif = pd.DataFrame()\n",
    "    vif[\"variables\"] = X.columns\n",
    "    vif[\"VIF\"] = [variance_inflation_factor(X.values, i) for i in range(X.shape[1])]\n",
    "\n",
    "    return(vif)\n",
    "\n",
    "data2=data.drop('Churn',axis=1)\n",
    "\n",
    "def suppression_var(col):\n",
    "\n",
    "    if  set(col).issubset(set(data2.columns)):\n",
    "        return calc_vif(data2.drop(list(col),axis=1))\n",
    "    else:\n",
    "        return calc_vif(data2)\n",
    "        \n",
    "coll =widgets.SelectMultiple(\n",
    "    options=list(data2.columns)+[\"aucune\"],\n",
    "    value=[\"aucune\"],\n",
    "    description='Colonnes:',\n",
    "    disabled=False\n",
    ")\n",
    "\n",
    "display(widgets.interact(suppression_var,df=widgets.fixed(data2),col=coll))      "
   ]
  },
  {
   "cell_type": "markdown",
   "id": "d54edcac",
   "metadata": {},
   "source": [
    "# 4.modelisation:"
   ]
  },
  {
   "cell_type": "markdown",
   "id": "4b2e2a12",
   "metadata": {},
   "source": [
    "#### Distribution des données Numérique :"
   ]
  },
  {
   "cell_type": "code",
   "execution_count": 23,
   "id": "5c35c8b2",
   "metadata": {},
   "outputs": [
    {
     "data": {
      "image/png": "[encoded data removed]",
      "text/plain": [
       "<Figure size 1296x432 with 3 Axes>"
      ]
     },
     "metadata": {
      "needs_background": "light"
     },
     "output_type": "display_data"
    }
   ],
   "source": [
    "fig, ax = plt.subplots(1, 3, figsize=(18,6))\n",
    "column_numerical=['tenure','TotalCharges', 'MonthlyCharges']\n",
    "for i, col in enumerate(column_numerical):\n",
    "    g=sns.histplot(data=data, x=col, multiple='stack', ax=ax[i], alpha=0.8,color='#FFE61B')\n",
    "    g.set_title(f'Distribution de la variable : \"{col}\"')\n",
    "\n",
    "plt.tight_layout()\n",
    "sns.despine()\n",
    "plt.show()"
   ]
  },
  {
   "cell_type": "code",
   "execution_count": 24,
   "id": "fdfb33c0",
   "metadata": {},
   "outputs": [
    {
     "data": {
      "application/vnd.jupyter.widget-view+json": {
       "model_id": "9fed9c9cc488447482c861cedd9227be",
       "version_major": 2,
       "version_minor": 0
      },
      "text/plain": [
       "interactive(children=(Dropdown(description='col', options=('tenure', 'TotalCharges', 'MonthlyCharges'), value=…"
      ]
     },
     "metadata": {},
     "output_type": "display_data"
    },
    {
     "data": {
      "text/plain": [
       "<function __main__.boxplot(data, col)>"
      ]
     },
     "metadata": {},
     "output_type": "display_data"
    }
   ],
   "source": [
    "def boxplot(data,col ):\n",
    "        sns.boxplot(data=data,x=col, orient=\"h\", palette=\"YlOrBr_r\")\n",
    "        plt.show()\n",
    "display(widgets.interact(boxplot,data=widgets.fixed(data),\n",
    "                         col=[\"tenure\",\"TotalCharges\",\"MonthlyCharges\"]) )     "
   ]
  },
  {
   "cell_type": "markdown",
   "id": "3f1639f5",
   "metadata": {},
   "source": [
    "en remarque qu'il existe pas des valeurs aberrantes dans les variable numérique \"tenure\", \"TotalCharges\" et \"MonthlyCharges\"."
   ]
  },
  {
   "cell_type": "markdown",
   "id": "b0ea65cf",
   "metadata": {},
   "source": [
    "#### Standardisassions des données Numérique :"
   ]
  },
  {
   "cell_type": "markdown",
   "id": "34cc0d16",
   "metadata": {},
   "source": [
    "Étant donné que cet ensemble de données numerique (\"tenure\", \"TotalCharges\" et \"MonthlyCharges\") n'est pas en distribution normale et ils ont pas des valeurs aberrantes, j'utiliserai la Normalisation min-max pour les caractéristiques numériques."
   ]
  },
  {
   "cell_type": "code",
   "execution_count": 25,
   "id": "688f9553",
   "metadata": {},
   "outputs": [],
   "source": [
    "from sklearn.preprocessing import MinMaxScaler\n",
    "column_numerical=['MonthlyCharges','TotalCharges','tenure']\n",
    "for i in column_numerical:\n",
    "    scaler = MinMaxScaler()\n",
    "    scaler.fit(data[[i]])\n",
    "\n",
    "    data[[i]] = scaler.transform(data[[i]])"
   ]
  },
  {
   "cell_type": "markdown",
   "id": "2d9fb9ed",
   "metadata": {},
   "source": [
    "#### Équilibrer les données "
   ]
  },
  {
   "cell_type": "markdown",
   "id": "d71abb94",
   "metadata": {},
   "source": [
    "SMOTE (technique de suréchantillonnage minoritaire synthétique) est l'une des méthodes de suréchantillonnage les plus couramment utilisées pour résoudre le problème de déséquilibre."
   ]
  },
  {
   "cell_type": "markdown",
   "id": "33f7d32c",
   "metadata": {},
   "source": [
    "Plus d'informations sur le fonctionnement de l'algorithme SMOTE !\n",
    "\n",
    "Étape 1 : Définition de l'ensemble de classes minoritaires A , pour chaque $x \\in A$, les k plus proches voisins de x sont obtenus en calculant la distance euclidienne entre x et tous les autres échantillons de l'ensemble A .\n",
    "\n",
    "Etape 2 : Le taux d'échantillonnage N est réglé en fonction de la proportion déséquilibrée. Pour chaque $x \\in A$, N exemples (c'est-à-dire x1, x2, …xn) sont choisis au hasard parmi ses k plus proches voisins, et ils construisent l'ensemble $A_1$.\n",
    "\n",
    "Etape 3 : Pour chaque exemple $x_k \\in A_1$(k=1, 2, 3…N), la formule suivante est utilisée pour générer un nouvel exemple :\n",
    "$x' = x + rand(0, 1) * \\mid x - x_k \\mid$\n",
    "dans laquelle rand(0, 1) représente le nombre aléatoire entre 0 et 1."
   ]
  },
  {
   "cell_type": "code",
   "execution_count": 26,
   "id": "2c43df8e",
   "metadata": {},
   "outputs": [],
   "source": [
    "from collections import Counter\n",
    "from sklearn.datasets import make_classification\n",
    "from imblearn.over_sampling import SMOTE \n",
    "\n",
    "data_X = data.drop('Churn', axis=1)\n",
    "data_y = data['Churn']\n",
    "\n",
    "smote = SMOTE(random_state=1)\n",
    "\n",
    "X_smote, y_smote = smote.fit_resample(data_X, data_y)\n",
    "\n",
    "X_train_smote_df = pd.DataFrame(X_smote, columns=data_X.columns)\n",
    "y_train_smote_df = pd.DataFrame(y_smote, columns=['Churn'])\n",
    "\n",
    "data_smote = pd.concat([X_train_smote_df, y_train_smote_df], axis=1)\n"
   ]
  },
  {
   "cell_type": "code",
   "execution_count": 27,
   "id": "ddae84d4",
   "metadata": {
    "scrolled": false
   },
   "outputs": [
    {
     "data": {
      "application/vnd.jupyter.widget-view+json": {
       "model_id": "cb9c9ffb7039497e953b363ab4f71e3b",
       "version_major": 2,
       "version_minor": 0
      },
      "text/plain": [
       "Tab(children=(Output(), Output()), _titles={'0': 'pie graph', '1': 'description data_smote'})"
      ]
     },
     "metadata": {},
     "output_type": "display_data"
    }
   ],
   "source": [
    "sub_tab = [widgets.Output() for i in range(2)]\n",
    "tab = widgets.Tab(sub_tab)\n",
    "for i in range (2):\n",
    "\n",
    "    with sub_tab[i]:\n",
    "        if i ==0 :\n",
    "            tab.set_title(i,\"pie graph\")\n",
    "            pie_data = data_smote['Churn'].value_counts(normalize=True).values * 100\n",
    "            pie_label = data_smote['Churn'].value_counts(normalize=True).index.to_list()\n",
    "\n",
    "            fig, ax = plt.subplots(figsize=(8,6))\n",
    "\n",
    "            wedges, texts, autotexts = ax.pie(pie_data, labels=pie_label,colors=['green','red'],\n",
    "                                              startangle=90, explode=[0, 0.1],\n",
    "                                              autopct='%.0f%%',\n",
    "                                              textprops={'color':'w', 'fontsize':16, 'weight':'bold'})\n",
    "\n",
    "            for i, wedge in enumerate(wedges):\n",
    "                texts[i].set_color(wedge.get_facecolor())\n",
    "\n",
    "            plt.tight_layout()\n",
    "            plt.show()\n",
    "        else:\n",
    "            tab.set_title(i,\"description data_smote\")\n",
    "            print(f\"nombre des Lignes : {data_smote.shape[0]}\")\n",
    "            print(f\"nombre des Colonnes  : {data_smote.shape[1]}\\n\")\n",
    "            print(\"***------------------------------------***\")\n",
    "            print(\"\\n nombre des clients churn et non churn :\")\n",
    "            print(data_smote['Churn'].value_counts())\n",
    "display(tab)\n"
   ]
  },
  {
   "cell_type": "markdown",
   "id": "96e49a04",
   "metadata": {},
   "source": [
    "#### Générer des ensembles de données d'entraînement et de test :"
   ]
  },
  {
   "cell_type": "code",
   "execution_count": 28,
   "id": "62f063cf",
   "metadata": {},
   "outputs": [
    {
     "name": "stdout",
     "output_type": "stream",
     "text": [
      "+-----------------training-----------------+\n",
      "Dimensions de X_train dataset :  (7228, 19)\n",
      "Dimensions de y_train dataset :  (7228,)\n",
      "\n",
      "+-----------------testing------------------+\n",
      "Dimensions de X_test dataset :  (3098, 19)\n",
      "Dimensions de y_test dataset :  (3098,)\n"
     ]
    }
   ],
   "source": [
    "from sklearn.model_selection import train_test_split\n",
    "\n",
    "X_train, X_test, y_train, y_test = train_test_split(X_smote, y_smote, test_size=0.3,\n",
    "                                                    random_state=1, stratify=y_smote)\n",
    "print('+-----------------training-----------------+')\n",
    "print(\"Dimensions de X_train dataset : \", X_train.shape) \n",
    "print(\"Dimensions de y_train dataset : \", y_train.shape) \n",
    "print()\n",
    "print('+-----------------testing------------------+')\n",
    "print(\"Dimensions de X_test dataset : \", X_test.shape) \n",
    "print(\"Dimensions de y_test dataset : \", y_test.shape) "
   ]
  },
  {
   "cell_type": "markdown",
   "id": "5930ba54",
   "metadata": {},
   "source": [
    "on regle les dimention de y_train et y_test dataset."
   ]
  },
  {
   "cell_type": "code",
   "execution_count": 29,
   "id": "c28aae8b",
   "metadata": {},
   "outputs": [],
   "source": [
    "y_train=y_train.values.reshape((y_train.shape[0], 1))\n",
    "y_test=y_test.values.reshape((y_test.shape[0], 1))"
   ]
  },
  {
   "cell_type": "code",
   "execution_count": 30,
   "id": "9eee5f71",
   "metadata": {},
   "outputs": [
    {
     "name": "stdout",
     "output_type": "stream",
     "text": [
      "Dimensions de y_train dataset :  (7228, 1)\n",
      "Dimensions de y_test dataset :  (3098, 1)\n"
     ]
    }
   ],
   "source": [
    "print(\"Dimensions de y_train dataset : \", y_train.shape) \n",
    "print(\"Dimensions de y_test dataset : \", y_test.shape) "
   ]
  },
  {
   "cell_type": "code",
   "execution_count": 31,
   "id": "6fa12416",
   "metadata": {},
   "outputs": [],
   "source": [
    "from sklearn.model_selection import cross_val_score\n",
    "from sklearn.model_selection import GridSearchCV\n",
    "from sklearn.model_selection import ShuffleSplit\n",
    "from sklearn.model_selection import KFold\n",
    "from sklearn import feature_selection\n",
    "import sklearn as sk"
   ]
  },
  {
   "cell_type": "code",
   "execution_count": 32,
   "id": "398b223f",
   "metadata": {},
   "outputs": [],
   "source": [
    "from sklearn.ensemble import RandomForestClassifier\n",
    "from sklearn.ensemble import GradientBoostingClassifier\n",
    "from xgboost import XGBClassifier\n",
    "model_list = {\n",
    "    'Random Forest':RandomForestClassifier(random_state=1,criterion= 'entropy', n_estimators= 68),\n",
    "    'XGBoost':XGBClassifier(random_state=1, use_label_encoder=False, eval_metric='logloss'),\n",
    "}\n",
    "\n"
   ]
  },
  {
   "cell_type": "code",
   "execution_count": 33,
   "id": "26dfe471",
   "metadata": {},
   "outputs": [],
   "source": [
    "y_pred_list = dict()\n",
    "from sklearn.metrics import make_scorer, accuracy_score, precision_score, recall_score, f1_score\n",
    "\n",
    "scoring = {'accuracy' : make_scorer(accuracy_score), \n",
    "           'precision' : make_scorer(precision_score),\n",
    "           'recall' : make_scorer(recall_score), \n",
    "           'f1_score' : make_scorer(f1_score)}\n",
    "col=['Model','Accuracy_mean','Accuracy_std', 'Precision_mean','Precision_std',\n",
    "     'Recall_mean','Recall_std','F1 Score_mean','F1 Score_std', 'roc_auc_mean','roc_auc_std']\n",
    "model_results = pd.DataFrame(columns=col)\n",
    "i = 0\n",
    "\n",
    "\n",
    "for name, model in model_list.items():\n",
    "    model.fit(X_train, y_train)\n",
    "    y_pred_list[name] = model.predict(X_test)\n",
    "    KFold =  sk.model_selection.KFold(n_splits=3,shuffle=False)\n",
    "    accuracy = cross_val_score(model, X_train, y_train, cv=KFold, scoring=scoring['accuracy'])\n",
    "    precision = cross_val_score(model, X_train, y_train, cv=KFold, scoring=scoring['precision'])\n",
    "    recall =cross_val_score(model, X_train, y_train, cv=KFold, scoring=scoring['recall']) \n",
    "    f1_score =cross_val_score(model, X_train, y_train, cv=KFold, scoring=scoring['f1_score'])\n",
    "    auc_results = cross_val_score(model, X_train, y_train, cv=KFold, scoring='roc_auc')\n",
    "    model_results.loc[i] = [name,\n",
    "                         round(np.mean(accuracy)*100, 2),\n",
    "                         round(np.std(accuracy)*100, 2),\n",
    "                         round(np.mean(precision)*100, 2),\n",
    "                         round(np.std(precision)*100, 2),\n",
    "                         round(np.mean(recall)*100, 2),\n",
    "                         round(np.std(recall)*100, 2),\n",
    "                         round(np.mean(f1_score)*100, 2),\n",
    "                         round(np.std(f1_score)*100, 2),\n",
    "                         round(np.mean(auc_results)*100, 2),\n",
    "                         round(np.std(auc_results)*100, 2)\n",
    "                         ]\n",
    "    i += 1\n"
   ]
  },
  {
   "cell_type": "code",
   "execution_count": 34,
   "id": "695d7727",
   "metadata": {},
   "outputs": [],
   "source": [
    "model_results.index=model_results.Model\n",
    "model_results.drop(\"Model\",axis=1,inplace=True)"
   ]
  },
  {
   "cell_type": "code",
   "execution_count": 35,
   "id": "0c427719",
   "metadata": {},
   "outputs": [
    {
     "data": {
      "text/html": [
       "<style type=\"text/css\">\n",
       "#T_53c7d_row0_col0, #T_53c7d_row0_col2, #T_53c7d_row0_col5, #T_53c7d_row0_col8, #T_53c7d_row1_col0, #T_53c7d_row1_col1, #T_53c7d_row1_col3, #T_53c7d_row1_col4, #T_53c7d_row1_col5, #T_53c7d_row1_col6, #T_53c7d_row1_col7, #T_53c7d_row1_col9 {\n",
       "  background-color: #fff7fb;\n",
       "  color: #000000;\n",
       "}\n",
       "#T_53c7d_row0_col1, #T_53c7d_row0_col3, #T_53c7d_row0_col4, #T_53c7d_row0_col6, #T_53c7d_row0_col7, #T_53c7d_row0_col9, #T_53c7d_row1_col2, #T_53c7d_row1_col8 {\n",
       "  background-color: #023858;\n",
       "  color: #f1f1f1;\n",
       "}\n",
       "</style>\n",
       "<table id=\"T_53c7d\">\n",
       "  <thead>\n",
       "    <tr>\n",
       "      <th class=\"blank level0\" >&nbsp;</th>\n",
       "      <th id=\"T_53c7d_level0_col0\" class=\"col_heading level0 col0\" >Accuracy_mean</th>\n",
       "      <th id=\"T_53c7d_level0_col1\" class=\"col_heading level0 col1\" >Accuracy_std</th>\n",
       "      <th id=\"T_53c7d_level0_col2\" class=\"col_heading level0 col2\" >Precision_mean</th>\n",
       "      <th id=\"T_53c7d_level0_col3\" class=\"col_heading level0 col3\" >Precision_std</th>\n",
       "      <th id=\"T_53c7d_level0_col4\" class=\"col_heading level0 col4\" >Recall_mean</th>\n",
       "      <th id=\"T_53c7d_level0_col5\" class=\"col_heading level0 col5\" >Recall_std</th>\n",
       "      <th id=\"T_53c7d_level0_col6\" class=\"col_heading level0 col6\" >F1 Score_mean</th>\n",
       "      <th id=\"T_53c7d_level0_col7\" class=\"col_heading level0 col7\" >F1 Score_std</th>\n",
       "      <th id=\"T_53c7d_level0_col8\" class=\"col_heading level0 col8\" >roc_auc_mean</th>\n",
       "      <th id=\"T_53c7d_level0_col9\" class=\"col_heading level0 col9\" >roc_auc_std</th>\n",
       "    </tr>\n",
       "    <tr>\n",
       "      <th class=\"index_name level0\" >Model</th>\n",
       "      <th class=\"blank col0\" >&nbsp;</th>\n",
       "      <th class=\"blank col1\" >&nbsp;</th>\n",
       "      <th class=\"blank col2\" >&nbsp;</th>\n",
       "      <th class=\"blank col3\" >&nbsp;</th>\n",
       "      <th class=\"blank col4\" >&nbsp;</th>\n",
       "      <th class=\"blank col5\" >&nbsp;</th>\n",
       "      <th class=\"blank col6\" >&nbsp;</th>\n",
       "      <th class=\"blank col7\" >&nbsp;</th>\n",
       "      <th class=\"blank col8\" >&nbsp;</th>\n",
       "      <th class=\"blank col9\" >&nbsp;</th>\n",
       "    </tr>\n",
       "  </thead>\n",
       "  <tbody>\n",
       "    <tr>\n",
       "      <th id=\"T_53c7d_level0_row0\" class=\"row_heading level0 row0\" >Random Forest</th>\n",
       "      <td id=\"T_53c7d_row0_col0\" class=\"data row0 col0\" >81.530000</td>\n",
       "      <td id=\"T_53c7d_row0_col1\" class=\"data row0 col1\" >0.800000</td>\n",
       "      <td id=\"T_53c7d_row0_col2\" class=\"data row0 col2\" >79.460000</td>\n",
       "      <td id=\"T_53c7d_row0_col3\" class=\"data row0 col3\" >1.140000</td>\n",
       "      <td id=\"T_53c7d_row0_col4\" class=\"data row0 col4\" >85.050000</td>\n",
       "      <td id=\"T_53c7d_row0_col5\" class=\"data row0 col5\" >0.630000</td>\n",
       "      <td id=\"T_53c7d_row0_col6\" class=\"data row0 col6\" >82.160000</td>\n",
       "      <td id=\"T_53c7d_row0_col7\" class=\"data row0 col7\" >0.800000</td>\n",
       "      <td id=\"T_53c7d_row0_col8\" class=\"data row0 col8\" >89.200000</td>\n",
       "      <td id=\"T_53c7d_row0_col9\" class=\"data row0 col9\" >0.370000</td>\n",
       "    </tr>\n",
       "    <tr>\n",
       "      <th id=\"T_53c7d_level0_row1\" class=\"row_heading level0 row1\" >XGBoost</th>\n",
       "      <td id=\"T_53c7d_row1_col0\" class=\"data row1 col0\" >81.530000</td>\n",
       "      <td id=\"T_53c7d_row1_col1\" class=\"data row1 col1\" >0.640000</td>\n",
       "      <td id=\"T_53c7d_row1_col2\" class=\"data row1 col2\" >80.030000</td>\n",
       "      <td id=\"T_53c7d_row1_col3\" class=\"data row1 col3\" >1.060000</td>\n",
       "      <td id=\"T_53c7d_row1_col4\" class=\"data row1 col4\" >84.060000</td>\n",
       "      <td id=\"T_53c7d_row1_col5\" class=\"data row1 col5\" >0.630000</td>\n",
       "      <td id=\"T_53c7d_row1_col6\" class=\"data row1 col6\" >81.990000</td>\n",
       "      <td id=\"T_53c7d_row1_col7\" class=\"data row1 col7\" >0.510000</td>\n",
       "      <td id=\"T_53c7d_row1_col8\" class=\"data row1 col8\" >89.820000</td>\n",
       "      <td id=\"T_53c7d_row1_col9\" class=\"data row1 col9\" >0.170000</td>\n",
       "    </tr>\n",
       "  </tbody>\n",
       "</table>\n"
      ],
      "text/plain": [
       "<pandas.io.formats.style.Styler at 0x7fe7fabee6a0>"
      ]
     },
     "execution_count": 35,
     "metadata": {},
     "output_type": "execute_result"
    }
   ],
   "source": [
    "model_results.style.background_gradient(axis=0)"
   ]
  },
  {
   "cell_type": "markdown",
   "id": "c09b33c4",
   "metadata": {},
   "source": [
    "##### random forest:\n",
    "\n",
    "    Accuracy : 81.28 (+/- 1)\n",
    "    Precision:79.4 (+/- 1.19)\n",
    "    Recall:84.47 (+/- 1.38)\n",
    "    F1_score:81.85 (+/- 1.1)\n",
    "    roc_auc:89.42 (+/- 0.35)\n",
    "    \n",
    "##### XGBoost:\n",
    "\n",
    "    Accuracy :81.53 (+/- 0.64)\n",
    "    Precision:80.03 (+/- 1.06)\n",
    "    Recall:84.06 (+/- 0.63 )\n",
    "    F1_score:81.99 (+/- 0.51)\n",
    "    roc_auc:89.82 (+/- 0.17)"
   ]
  },
  {
   "cell_type": "code",
   "execution_count": 36,
   "id": "75370069",
   "metadata": {},
   "outputs": [],
   "source": [
    "from sklearn.model_selection import GridSearchCV\n"
   ]
  },
  {
   "cell_type": "markdown",
   "id": "141b0214",
   "metadata": {},
   "source": [
    "#### Identifier le nombre optimal d'arbres pour le modèle Random Forest:"
   ]
  },
  {
   "cell_type": "code",
   "execution_count": 37,
   "id": "847e5b0b",
   "metadata": {
    "scrolled": false
   },
   "outputs": [
    {
     "data": {
      "image/png": "[encoded data removed]",
      "text/plain": [
       "<Figure size 1080x504 with 1 Axes>"
      ]
     },
     "metadata": {
      "needs_background": "light"
     },
     "output_type": "display_data"
    }
   ],
   "source": [
    "score_array = []\n",
    "for each in range(1,100):\n",
    "    rf_loop = RandomForestClassifier(\n",
    "n_estimators = each, random_state = 1) \n",
    "    rf_loop.fit(X_train,y_train)\n",
    "    score_array.append(rf_loop.score(X_test,y_test))\n",
    "fig = plt.figure(figsize=(15, 7))\n",
    "\n",
    "plt.plot(range(1,100),score_array, color = '#ec838a')\n",
    "\n",
    "plt.ylabel('Score\\n',horizontalalignment=\"center\",\n",
    "fontstyle = \"normal\", fontsize = \"large\", \n",
    "fontfamily = \"sans-serif\")\n",
    "plt.xlabel('Range\\n',horizontalalignment=\"center\",\n",
    "fontstyle = \"normal\", fontsize = \"large\", \n",
    "fontfamily = \"sans-serif\")\n",
    "plt.title('Optimal Number of Trees for Random Forest Model \\n',horizontalalignment=\"center\", fontstyle = \"normal\", fontsize = \"22\", fontfamily = \"sans-serif\")\n",
    "plt.xticks(rotation=0, horizontalalignment=\"center\")\n",
    "plt.yticks(rotation=0, horizontalalignment=\"right\")\n",
    "plt.show()"
   ]
  },
  {
   "cell_type": "markdown",
   "id": "c08833ae",
   "metadata": {},
   "source": [
    "Comme nous avons pu le voir à partir des itérations ci-dessus, le modèle randomforest atteindrait le score de précision le plus élevé lorsque ses n_estimators Varier entre 60 et 70."
   ]
  },
  {
   "cell_type": "code",
   "execution_count": 38,
   "id": "cb0ff314",
   "metadata": {
    "scrolled": true
   },
   "outputs": [
    {
     "name": "stdout",
     "output_type": "stream",
     "text": [
      "CPU times: user 37.5 s, sys: 1.09 s, total: 38.6 s\n",
      "Wall time: 38.9 s\n"
     ]
    },
    {
     "data": {
      "text/html": [
       "<style>#sk-container-id-1 {color: black;background-color: white;}#sk-container-id-1 pre{padding: 0;}#sk-container-id-1 div.sk-toggleable {background-color: white;}#sk-container-id-1 label.sk-toggleable__label {cursor: pointer;display: block;width: 100%;margin-bottom: 0;padding: 0.3em;box-sizing: border-box;text-align: center;}#sk-container-id-1 label.sk-toggleable__label-arrow:before {content: \"▸\";float: left;margin-right: 0.25em;color: #696969;}#sk-container-id-1 label.sk-toggleable__label-arrow:hover:before {color: black;}#sk-container-id-1 div.sk-estimator:hover label.sk-toggleable__label-arrow:before {color: black;}#sk-container-id-1 div.sk-toggleable__content {max-height: 0;max-width: 0;overflow: hidden;text-align: left;background-color: #f0f8ff;}#sk-container-id-1 div.sk-toggleable__content pre {margin: 0.2em;color: black;border-radius: 0.25em;background-color: #f0f8ff;}#sk-container-id-1 input.sk-toggleable__control:checked~div.sk-toggleable__content {max-height: 200px;max-width: 100%;overflow: auto;}#sk-container-id-1 input.sk-toggleable__control:checked~label.sk-toggleable__label-arrow:before {content: \"▾\";}#sk-container-id-1 div.sk-estimator input.sk-toggleable__control:checked~label.sk-toggleable__label {background-color: #d4ebff;}#sk-container-id-1 div.sk-label input.sk-toggleable__control:checked~label.sk-toggleable__label {background-color: #d4ebff;}#sk-container-id-1 input.sk-hidden--visually {border: 0;clip: rect(1px 1px 1px 1px);clip: rect(1px, 1px, 1px, 1px);height: 1px;margin: -1px;overflow: hidden;padding: 0;position: absolute;width: 1px;}#sk-container-id-1 div.sk-estimator {font-family: monospace;background-color: #f0f8ff;border: 1px dotted black;border-radius: 0.25em;box-sizing: border-box;margin-bottom: 0.5em;}#sk-container-id-1 div.sk-estimator:hover {background-color: #d4ebff;}#sk-container-id-1 div.sk-parallel-item::after {content: \"\";width: 100%;border-bottom: 1px solid gray;flex-grow: 1;}#sk-container-id-1 div.sk-label:hover label.sk-toggleable__label {background-color: #d4ebff;}#sk-container-id-1 div.sk-serial::before {content: \"\";position: absolute;border-left: 1px solid gray;box-sizing: border-box;top: 0;bottom: 0;left: 50%;z-index: 0;}#sk-container-id-1 div.sk-serial {display: flex;flex-direction: column;align-items: center;background-color: white;padding-right: 0.2em;padding-left: 0.2em;position: relative;}#sk-container-id-1 div.sk-item {position: relative;z-index: 1;}#sk-container-id-1 div.sk-parallel {display: flex;align-items: stretch;justify-content: center;background-color: white;position: relative;}#sk-container-id-1 div.sk-item::before, #sk-container-id-1 div.sk-parallel-item::before {content: \"\";position: absolute;border-left: 1px solid gray;box-sizing: border-box;top: 0;bottom: 0;left: 50%;z-index: -1;}#sk-container-id-1 div.sk-parallel-item {display: flex;flex-direction: column;z-index: 1;position: relative;background-color: white;}#sk-container-id-1 div.sk-parallel-item:first-child::after {align-self: flex-end;width: 50%;}#sk-container-id-1 div.sk-parallel-item:last-child::after {align-self: flex-start;width: 50%;}#sk-container-id-1 div.sk-parallel-item:only-child::after {width: 0;}#sk-container-id-1 div.sk-dashed-wrapped {border: 1px dashed gray;margin: 0 0.4em 0.5em 0.4em;box-sizing: border-box;padding-bottom: 0.4em;background-color: white;}#sk-container-id-1 div.sk-label label {font-family: monospace;font-weight: bold;display: inline-block;line-height: 1.2em;}#sk-container-id-1 div.sk-label-container {text-align: center;}#sk-container-id-1 div.sk-container {/* jupyter's `normalize.less` sets `[hidden] { display: none; }` but bootstrap.min.css set `[hidden] { display: none !important; }` so we also need the `!important` here to be able to override the default hidden behavior on the sphinx rendered scikit-learn.org. See: https://github.com/scikit-learn/scikit-learn/issues/21755 */display: inline-block !important;position: relative;}#sk-container-id-1 div.sk-text-repr-fallback {display: none;}</style><div id=\"sk-container-id-1\" class=\"sk-top-container\"><div class=\"sk-text-repr-fallback\"><pre>GridSearchCV(cv=5, estimator=RandomForestClassifier(random_state=1),\n",
       "             param_grid={&#x27;criterion&#x27;: [&#x27;gini&#x27;, &#x27;entropy&#x27;],\n",
       "                         &#x27;n_estimators&#x27;: range(60, 70)})</pre><b>In a Jupyter environment, please rerun this cell to show the HTML representation or trust the notebook. <br />On GitHub, the HTML representation is unable to render, please try loading this page with nbviewer.org.</b></div><div class=\"sk-container\" hidden><div class=\"sk-item sk-dashed-wrapped\"><div class=\"sk-label-container\"><div class=\"sk-label sk-toggleable\"><input class=\"sk-toggleable__control sk-hidden--visually\" id=\"sk-estimator-id-1\" type=\"checkbox\" ><label for=\"sk-estimator-id-1\" class=\"sk-toggleable__label sk-toggleable__label-arrow\">GridSearchCV</label><div class=\"sk-toggleable__content\"><pre>GridSearchCV(cv=5, estimator=RandomForestClassifier(random_state=1),\n",
       "             param_grid={&#x27;criterion&#x27;: [&#x27;gini&#x27;, &#x27;entropy&#x27;],\n",
       "                         &#x27;n_estimators&#x27;: range(60, 70)})</pre></div></div></div><div class=\"sk-parallel\"><div class=\"sk-parallel-item\"><div class=\"sk-item\"><div class=\"sk-label-container\"><div class=\"sk-label sk-toggleable\"><input class=\"sk-toggleable__control sk-hidden--visually\" id=\"sk-estimator-id-2\" type=\"checkbox\" ><label for=\"sk-estimator-id-2\" class=\"sk-toggleable__label sk-toggleable__label-arrow\">estimator: RandomForestClassifier</label><div class=\"sk-toggleable__content\"><pre>RandomForestClassifier(random_state=1)</pre></div></div></div><div class=\"sk-serial\"><div class=\"sk-item\"><div class=\"sk-estimator sk-toggleable\"><input class=\"sk-toggleable__control sk-hidden--visually\" id=\"sk-estimator-id-3\" type=\"checkbox\" ><label for=\"sk-estimator-id-3\" class=\"sk-toggleable__label sk-toggleable__label-arrow\">RandomForestClassifier</label><div class=\"sk-toggleable__content\"><pre>RandomForestClassifier(random_state=1)</pre></div></div></div></div></div></div></div></div></div></div>"
      ],
      "text/plain": [
       "GridSearchCV(cv=5, estimator=RandomForestClassifier(random_state=1),\n",
       "             param_grid={'criterion': ['gini', 'entropy'],\n",
       "                         'n_estimators': range(60, 70)})"
      ]
     },
     "execution_count": 38,
     "metadata": {},
     "output_type": "execute_result"
    }
   ],
   "source": [
    "%%time\n",
    "param_grid_RF = { \n",
    "    'n_estimators': range(60,70),\n",
    "    'criterion' :['gini', 'entropy']\n",
    "}\n",
    "rf=RandomForestClassifier(random_state=1)\n",
    "CV_rf = GridSearchCV(estimator=rf, param_grid=param_grid_RF, cv= 5)\n",
    "CV_rf.fit(X_train, y_train)"
   ]
  },
  {
   "cell_type": "code",
   "execution_count": 39,
   "id": "ff7c25dd",
   "metadata": {},
   "outputs": [
    {
     "name": "stdout",
     "output_type": "stream",
     "text": [
      "les paramètres optimaux sont :  {'criterion': 'entropy', 'n_estimators': 68}\n"
     ]
    }
   ],
   "source": [
    "print('les paramètres optimaux sont : ',CV_rf.best_params_)"
   ]
  },
  {
   "cell_type": "code",
   "execution_count": 40,
   "id": "901e3572",
   "metadata": {},
   "outputs": [
    {
     "data": {
      "image/png": "[encoded data removed]",
      "text/plain": [
       "<Figure size 1080x504 with 1 Axes>"
      ]
     },
     "metadata": {
      "needs_background": "light"
     },
     "output_type": "display_data"
    }
   ],
   "source": [
    "score_array = []\n",
    "for each in range(155,170):\n",
    "    rf_loop = XGBClassifier(n_estimators = each, random_state = 1) \n",
    "    rf_loop.fit(X_train,y_train)\n",
    "    score_array.append(rf_loop.score(X_test,y_test))\n",
    "fig = plt.figure(figsize=(15, 7))\n",
    "\n",
    "plt.plot(range(155,170),score_array, color = '#ec838a')\n",
    "\n",
    "plt.ylabel('Score\\n',horizontalalignment=\"center\",\n",
    "fontstyle = \"normal\", fontsize = \"large\", \n",
    "fontfamily = \"sans-serif\")\n",
    "plt.xlabel('Range\\n',horizontalalignment=\"center\",\n",
    "fontstyle = \"normal\", fontsize = \"large\", \n",
    "fontfamily = \"sans-serif\")\n",
    "plt.title('Optimal Number of Trees for XGBoost Model \\n',horizontalalignment=\"center\", fontstyle = \"normal\", fontsize = \"22\", fontfamily = \"sans-serif\")\n",
    "plt.xticks(rotation=0, horizontalalignment=\"center\")\n",
    "plt.yticks(rotation=0, horizontalalignment=\"right\")\n",
    "plt.show()"
   ]
  },
  {
   "cell_type": "code",
   "execution_count": 41,
   "id": "56975fd9",
   "metadata": {},
   "outputs": [
    {
     "data": {
      "text/html": [
       "<style>#sk-container-id-2 {color: black;background-color: white;}#sk-container-id-2 pre{padding: 0;}#sk-container-id-2 div.sk-toggleable {background-color: white;}#sk-container-id-2 label.sk-toggleable__label {cursor: pointer;display: block;width: 100%;margin-bottom: 0;padding: 0.3em;box-sizing: border-box;text-align: center;}#sk-container-id-2 label.sk-toggleable__label-arrow:before {content: \"▸\";float: left;margin-right: 0.25em;color: #696969;}#sk-container-id-2 label.sk-toggleable__label-arrow:hover:before {color: black;}#sk-container-id-2 div.sk-estimator:hover label.sk-toggleable__label-arrow:before {color: black;}#sk-container-id-2 div.sk-toggleable__content {max-height: 0;max-width: 0;overflow: hidden;text-align: left;background-color: #f0f8ff;}#sk-container-id-2 div.sk-toggleable__content pre {margin: 0.2em;color: black;border-radius: 0.25em;background-color: #f0f8ff;}#sk-container-id-2 input.sk-toggleable__control:checked~div.sk-toggleable__content {max-height: 200px;max-width: 100%;overflow: auto;}#sk-container-id-2 input.sk-toggleable__control:checked~label.sk-toggleable__label-arrow:before {content: \"▾\";}#sk-container-id-2 div.sk-estimator input.sk-toggleable__control:checked~label.sk-toggleable__label {background-color: #d4ebff;}#sk-container-id-2 div.sk-label input.sk-toggleable__control:checked~label.sk-toggleable__label {background-color: #d4ebff;}#sk-container-id-2 input.sk-hidden--visually {border: 0;clip: rect(1px 1px 1px 1px);clip: rect(1px, 1px, 1px, 1px);height: 1px;margin: -1px;overflow: hidden;padding: 0;position: absolute;width: 1px;}#sk-container-id-2 div.sk-estimator {font-family: monospace;background-color: #f0f8ff;border: 1px dotted black;border-radius: 0.25em;box-sizing: border-box;margin-bottom: 0.5em;}#sk-container-id-2 div.sk-estimator:hover {background-color: #d4ebff;}#sk-container-id-2 div.sk-parallel-item::after {content: \"\";width: 100%;border-bottom: 1px solid gray;flex-grow: 1;}#sk-container-id-2 div.sk-label:hover label.sk-toggleable__label {background-color: #d4ebff;}#sk-container-id-2 div.sk-serial::before {content: \"\";position: absolute;border-left: 1px solid gray;box-sizing: border-box;top: 0;bottom: 0;left: 50%;z-index: 0;}#sk-container-id-2 div.sk-serial {display: flex;flex-direction: column;align-items: center;background-color: white;padding-right: 0.2em;padding-left: 0.2em;position: relative;}#sk-container-id-2 div.sk-item {position: relative;z-index: 1;}#sk-container-id-2 div.sk-parallel {display: flex;align-items: stretch;justify-content: center;background-color: white;position: relative;}#sk-container-id-2 div.sk-item::before, #sk-container-id-2 div.sk-parallel-item::before {content: \"\";position: absolute;border-left: 1px solid gray;box-sizing: border-box;top: 0;bottom: 0;left: 50%;z-index: -1;}#sk-container-id-2 div.sk-parallel-item {display: flex;flex-direction: column;z-index: 1;position: relative;background-color: white;}#sk-container-id-2 div.sk-parallel-item:first-child::after {align-self: flex-end;width: 50%;}#sk-container-id-2 div.sk-parallel-item:last-child::after {align-self: flex-start;width: 50%;}#sk-container-id-2 div.sk-parallel-item:only-child::after {width: 0;}#sk-container-id-2 div.sk-dashed-wrapped {border: 1px dashed gray;margin: 0 0.4em 0.5em 0.4em;box-sizing: border-box;padding-bottom: 0.4em;background-color: white;}#sk-container-id-2 div.sk-label label {font-family: monospace;font-weight: bold;display: inline-block;line-height: 1.2em;}#sk-container-id-2 div.sk-label-container {text-align: center;}#sk-container-id-2 div.sk-container {/* jupyter's `normalize.less` sets `[hidden] { display: none; }` but bootstrap.min.css set `[hidden] { display: none !important; }` so we also need the `!important` here to be able to override the default hidden behavior on the sphinx rendered scikit-learn.org. See: https://github.com/scikit-learn/scikit-learn/issues/21755 */display: inline-block !important;position: relative;}#sk-container-id-2 div.sk-text-repr-fallback {display: none;}</style><div id=\"sk-container-id-2\" class=\"sk-top-container\"><div class=\"sk-text-repr-fallback\"><pre>GridSearchCV(cv=5,\n",
       "             estimator=XGBClassifier(base_score=None, booster=None,\n",
       "                                     callbacks=None, colsample_bylevel=None,\n",
       "                                     colsample_bynode=None,\n",
       "                                     colsample_bytree=None,\n",
       "                                     early_stopping_rounds=None,\n",
       "                                     enable_categorical=False, eval_metric=None,\n",
       "                                     gamma=None, gpu_id=None, grow_policy=None,\n",
       "                                     importance_type=None,\n",
       "                                     interaction_constraints=None,\n",
       "                                     learning_rate=None, max_bin=None,\n",
       "                                     max_cat_to_onehot=None,\n",
       "                                     max_delta_step=None, max_depth=None,\n",
       "                                     max_leaves=None, min_child_weight=None,\n",
       "                                     missing=nan, monotone_constraints=None,\n",
       "                                     n_estimators=100, n_jobs=None,\n",
       "                                     num_parallel_tree=None, predictor=None,\n",
       "                                     random_state=1, reg_alpha=None,\n",
       "                                     reg_lambda=None, ...),\n",
       "             param_grid={&#x27;learning_rate&#x27;: [0.05, 0.1, 0.15, 0.2, 0.25, 0.3,\n",
       "                                           0.35, 0.4],\n",
       "                         &#x27;n_estimators&#x27;: range(166, 170)})</pre><b>In a Jupyter environment, please rerun this cell to show the HTML representation or trust the notebook. <br />On GitHub, the HTML representation is unable to render, please try loading this page with nbviewer.org.</b></div><div class=\"sk-container\" hidden><div class=\"sk-item sk-dashed-wrapped\"><div class=\"sk-label-container\"><div class=\"sk-label sk-toggleable\"><input class=\"sk-toggleable__control sk-hidden--visually\" id=\"sk-estimator-id-4\" type=\"checkbox\" ><label for=\"sk-estimator-id-4\" class=\"sk-toggleable__label sk-toggleable__label-arrow\">GridSearchCV</label><div class=\"sk-toggleable__content\"><pre>GridSearchCV(cv=5,\n",
       "             estimator=XGBClassifier(base_score=None, booster=None,\n",
       "                                     callbacks=None, colsample_bylevel=None,\n",
       "                                     colsample_bynode=None,\n",
       "                                     colsample_bytree=None,\n",
       "                                     early_stopping_rounds=None,\n",
       "                                     enable_categorical=False, eval_metric=None,\n",
       "                                     gamma=None, gpu_id=None, grow_policy=None,\n",
       "                                     importance_type=None,\n",
       "                                     interaction_constraints=None,\n",
       "                                     learning_rate=None, max_bin=None,\n",
       "                                     max_cat_to_onehot=None,\n",
       "                                     max_delta_step=None, max_depth=None,\n",
       "                                     max_leaves=None, min_child_weight=None,\n",
       "                                     missing=nan, monotone_constraints=None,\n",
       "                                     n_estimators=100, n_jobs=None,\n",
       "                                     num_parallel_tree=None, predictor=None,\n",
       "                                     random_state=1, reg_alpha=None,\n",
       "                                     reg_lambda=None, ...),\n",
       "             param_grid={&#x27;learning_rate&#x27;: [0.05, 0.1, 0.15, 0.2, 0.25, 0.3,\n",
       "                                           0.35, 0.4],\n",
       "                         &#x27;n_estimators&#x27;: range(166, 170)})</pre></div></div></div><div class=\"sk-parallel\"><div class=\"sk-parallel-item\"><div class=\"sk-item\"><div class=\"sk-label-container\"><div class=\"sk-label sk-toggleable\"><input class=\"sk-toggleable__control sk-hidden--visually\" id=\"sk-estimator-id-5\" type=\"checkbox\" ><label for=\"sk-estimator-id-5\" class=\"sk-toggleable__label sk-toggleable__label-arrow\">estimator: XGBClassifier</label><div class=\"sk-toggleable__content\"><pre>XGBClassifier(base_score=None, booster=None, callbacks=None,\n",
       "              colsample_bylevel=None, colsample_bynode=None,\n",
       "              colsample_bytree=None, early_stopping_rounds=None,\n",
       "              enable_categorical=False, eval_metric=None, gamma=None,\n",
       "              gpu_id=None, grow_policy=None, importance_type=None,\n",
       "              interaction_constraints=None, learning_rate=None, max_bin=None,\n",
       "              max_cat_to_onehot=None, max_delta_step=None, max_depth=None,\n",
       "              max_leaves=None, min_child_weight=None, missing=nan,\n",
       "              monotone_constraints=None, n_estimators=100, n_jobs=None,\n",
       "              num_parallel_tree=None, predictor=None, random_state=1,\n",
       "              reg_alpha=None, reg_lambda=None, ...)</pre></div></div></div><div class=\"sk-serial\"><div class=\"sk-item\"><div class=\"sk-estimator sk-toggleable\"><input class=\"sk-toggleable__control sk-hidden--visually\" id=\"sk-estimator-id-6\" type=\"checkbox\" ><label for=\"sk-estimator-id-6\" class=\"sk-toggleable__label sk-toggleable__label-arrow\">XGBClassifier</label><div class=\"sk-toggleable__content\"><pre>XGBClassifier(base_score=None, booster=None, callbacks=None,\n",
       "              colsample_bylevel=None, colsample_bynode=None,\n",
       "              colsample_bytree=None, early_stopping_rounds=None,\n",
       "              enable_categorical=False, eval_metric=None, gamma=None,\n",
       "              gpu_id=None, grow_policy=None, importance_type=None,\n",
       "              interaction_constraints=None, learning_rate=None, max_bin=None,\n",
       "              max_cat_to_onehot=None, max_delta_step=None, max_depth=None,\n",
       "              max_leaves=None, min_child_weight=None, missing=nan,\n",
       "              monotone_constraints=None, n_estimators=100, n_jobs=None,\n",
       "              num_parallel_tree=None, predictor=None, random_state=1,\n",
       "              reg_alpha=None, reg_lambda=None, ...)</pre></div></div></div></div></div></div></div></div></div></div>"
      ],
      "text/plain": [
       "GridSearchCV(cv=5,\n",
       "             estimator=XGBClassifier(base_score=None, booster=None,\n",
       "                                     callbacks=None, colsample_bylevel=None,\n",
       "                                     colsample_bynode=None,\n",
       "                                     colsample_bytree=None,\n",
       "                                     early_stopping_rounds=None,\n",
       "                                     enable_categorical=False, eval_metric=None,\n",
       "                                     gamma=None, gpu_id=None, grow_policy=None,\n",
       "                                     importance_type=None,\n",
       "                                     interaction_constraints=None,\n",
       "                                     learning_rate=None, max_bin=None,\n",
       "                                     max_cat_to_onehot=None,\n",
       "                                     max_delta_step=None, max_depth=None,\n",
       "                                     max_leaves=None, min_child_weight=None,\n",
       "                                     missing=nan, monotone_constraints=None,\n",
       "                                     n_estimators=100, n_jobs=None,\n",
       "                                     num_parallel_tree=None, predictor=None,\n",
       "                                     random_state=1, reg_alpha=None,\n",
       "                                     reg_lambda=None, ...),\n",
       "             param_grid={'learning_rate': [0.05, 0.1, 0.15, 0.2, 0.25, 0.3,\n",
       "                                           0.35, 0.4],\n",
       "                         'n_estimators': range(166, 170)})"
      ]
     },
     "execution_count": 41,
     "metadata": {},
     "output_type": "execute_result"
    }
   ],
   "source": [
    "param_grid_XGB = {\n",
    "    'n_estimators': range(166,170),\n",
    "    'learning_rate':[.05,.1,.15,.2,.25,.3,.35,.4]\n",
    "}\n",
    "#learning_rate = [0.0001, 0.001, 0.01, 0.1, 0.2, 0.3]\n",
    "#param_grid = dict(learning_rate=learning_rate)\n",
    "\n",
    "GB=XGBClassifier(random_state=1)\n",
    "CV_GB = GridSearchCV(estimator=GB, param_grid=param_grid_XGB, cv= 5)\n",
    "CV_GB.fit(X_train, y_train)\n"
   ]
  },
  {
   "cell_type": "code",
   "execution_count": 42,
   "id": "2de8d192",
   "metadata": {},
   "outputs": [
    {
     "name": "stdout",
     "output_type": "stream",
     "text": [
      "les paramètres optimaux sont :  {'learning_rate': 0.3, 'n_estimators': 167}\n"
     ]
    }
   ],
   "source": [
    "print('les paramètres optimaux sont : ',CV_GB.best_params_)"
   ]
  },
  {
   "cell_type": "code",
   "execution_count": 43,
   "id": "9999b11c",
   "metadata": {},
   "outputs": [],
   "source": [
    "model_list = {\n",
    "    'Random Forest':RandomForestClassifier(random_state=1,criterion= 'entropy', n_estimators= 68),\n",
    "    'XGBoost':XGBClassifier(n_estimators = 169,learning_rate= 0.3,random_state=1,\n",
    "                            use_label_encoder=False, eval_metric='logloss'),\n",
    "}"
   ]
  },
  {
   "cell_type": "code",
   "execution_count": 44,
   "id": "4c69d422",
   "metadata": {},
   "outputs": [],
   "source": [
    "y_pred_list = dict()\n",
    "from sklearn.metrics import make_scorer, accuracy_score, precision_score, recall_score, f1_score\n",
    "\n",
    "scoring = {'accuracy' : make_scorer(accuracy_score), \n",
    "           'precision' : make_scorer(precision_score),\n",
    "           'recall' : make_scorer(recall_score), \n",
    "           'f1_score' : make_scorer(f1_score)}\n",
    "col=['Model','Accuracy_mean','Accuracy_std', 'Precision_mean','Precision_std',\n",
    "     'Recall_mean','Recall_std','F1 Score_mean','F1 Score_std', 'roc_auc_mean','roc_auc_std']\n",
    "model_results = pd.DataFrame(columns=col)\n",
    "i = 0\n",
    "\n",
    "\n",
    "for name, model in model_list.items():\n",
    "    model.fit(X_train, y_train)\n",
    "    y_pred_list[name] = model.predict(X_test)\n",
    "    KFold =  sk.model_selection.KFold(n_splits=3,shuffle=False)\n",
    "    accuracy = cross_val_score(model, X_train, y_train, cv=KFold, scoring=scoring['accuracy'])\n",
    "    precision = cross_val_score(model, X_train, y_train, cv=KFold, scoring=scoring['precision'])\n",
    "    recall =cross_val_score(model, X_train, y_train, cv=KFold, scoring=scoring['recall']) \n",
    "    f1_score =cross_val_score(model, X_train, y_train, cv=KFold, scoring=scoring['f1_score'])\n",
    "    auc_results = cross_val_score(model, X_train, y_train, cv=KFold, scoring='roc_auc')\n",
    "    model_results.loc[i] = [name,\n",
    "                         round(np.mean(accuracy)*100, 2),\n",
    "                         round(np.std(accuracy)*100, 2),\n",
    "                         round(np.mean(precision)*100, 2),\n",
    "                         round(np.std(precision)*100, 2),\n",
    "                         round(np.mean(recall)*100, 2),\n",
    "                         round(np.std(recall)*100, 2),\n",
    "                         round(np.mean(f1_score)*100, 2),\n",
    "                         round(np.std(f1_score)*100, 2),\n",
    "                         round(np.mean(auc_results)*100, 2),\n",
    "                         round(np.std(auc_results)*100, 2)\n",
    "                         ]\n",
    "    i += 1\n"
   ]
  },
  {
   "cell_type": "code",
   "execution_count": 45,
   "id": "c9269c3e",
   "metadata": {},
   "outputs": [],
   "source": [
    "model_results.index=model_results.Model\n",
    "model_results.drop(\"Model\",axis=1,inplace=True)"
   ]
  },
  {
   "cell_type": "code",
   "execution_count": 46,
   "id": "795aff91",
   "metadata": {},
   "outputs": [
    {
     "data": {
      "text/html": [
       "<style type=\"text/css\">\n",
       "#T_8b42a_row0_col0, #T_8b42a_row0_col1, #T_8b42a_row0_col3, #T_8b42a_row0_col4, #T_8b42a_row0_col6, #T_8b42a_row0_col7, #T_8b42a_row0_col9, #T_8b42a_row1_col2, #T_8b42a_row1_col5, #T_8b42a_row1_col8 {\n",
       "  background-color: #023858;\n",
       "  color: #f1f1f1;\n",
       "}\n",
       "#T_8b42a_row0_col2, #T_8b42a_row0_col5, #T_8b42a_row0_col8, #T_8b42a_row1_col0, #T_8b42a_row1_col1, #T_8b42a_row1_col3, #T_8b42a_row1_col4, #T_8b42a_row1_col6, #T_8b42a_row1_col7, #T_8b42a_row1_col9 {\n",
       "  background-color: #fff7fb;\n",
       "  color: #000000;\n",
       "}\n",
       "</style>\n",
       "<table id=\"T_8b42a\">\n",
       "  <thead>\n",
       "    <tr>\n",
       "      <th class=\"blank level0\" >&nbsp;</th>\n",
       "      <th id=\"T_8b42a_level0_col0\" class=\"col_heading level0 col0\" >Accuracy_mean</th>\n",
       "      <th id=\"T_8b42a_level0_col1\" class=\"col_heading level0 col1\" >Accuracy_std</th>\n",
       "      <th id=\"T_8b42a_level0_col2\" class=\"col_heading level0 col2\" >Precision_mean</th>\n",
       "      <th id=\"T_8b42a_level0_col3\" class=\"col_heading level0 col3\" >Precision_std</th>\n",
       "      <th id=\"T_8b42a_level0_col4\" class=\"col_heading level0 col4\" >Recall_mean</th>\n",
       "      <th id=\"T_8b42a_level0_col5\" class=\"col_heading level0 col5\" >Recall_std</th>\n",
       "      <th id=\"T_8b42a_level0_col6\" class=\"col_heading level0 col6\" >F1 Score_mean</th>\n",
       "      <th id=\"T_8b42a_level0_col7\" class=\"col_heading level0 col7\" >F1 Score_std</th>\n",
       "      <th id=\"T_8b42a_level0_col8\" class=\"col_heading level0 col8\" >roc_auc_mean</th>\n",
       "      <th id=\"T_8b42a_level0_col9\" class=\"col_heading level0 col9\" >roc_auc_std</th>\n",
       "    </tr>\n",
       "    <tr>\n",
       "      <th class=\"index_name level0\" >Model</th>\n",
       "      <th class=\"blank col0\" >&nbsp;</th>\n",
       "      <th class=\"blank col1\" >&nbsp;</th>\n",
       "      <th class=\"blank col2\" >&nbsp;</th>\n",
       "      <th class=\"blank col3\" >&nbsp;</th>\n",
       "      <th class=\"blank col4\" >&nbsp;</th>\n",
       "      <th class=\"blank col5\" >&nbsp;</th>\n",
       "      <th class=\"blank col6\" >&nbsp;</th>\n",
       "      <th class=\"blank col7\" >&nbsp;</th>\n",
       "      <th class=\"blank col8\" >&nbsp;</th>\n",
       "      <th class=\"blank col9\" >&nbsp;</th>\n",
       "    </tr>\n",
       "  </thead>\n",
       "  <tbody>\n",
       "    <tr>\n",
       "      <th id=\"T_8b42a_level0_row0\" class=\"row_heading level0 row0\" >Random Forest</th>\n",
       "      <td id=\"T_8b42a_row0_col0\" class=\"data row0 col0\" >81.530000</td>\n",
       "      <td id=\"T_8b42a_row0_col1\" class=\"data row0 col1\" >0.800000</td>\n",
       "      <td id=\"T_8b42a_row0_col2\" class=\"data row0 col2\" >79.460000</td>\n",
       "      <td id=\"T_8b42a_row0_col3\" class=\"data row0 col3\" >1.140000</td>\n",
       "      <td id=\"T_8b42a_row0_col4\" class=\"data row0 col4\" >85.050000</td>\n",
       "      <td id=\"T_8b42a_row0_col5\" class=\"data row0 col5\" >0.630000</td>\n",
       "      <td id=\"T_8b42a_row0_col6\" class=\"data row0 col6\" >82.160000</td>\n",
       "      <td id=\"T_8b42a_row0_col7\" class=\"data row0 col7\" >0.800000</td>\n",
       "      <td id=\"T_8b42a_row0_col8\" class=\"data row0 col8\" >89.200000</td>\n",
       "      <td id=\"T_8b42a_row0_col9\" class=\"data row0 col9\" >0.370000</td>\n",
       "    </tr>\n",
       "    <tr>\n",
       "      <th id=\"T_8b42a_level0_row1\" class=\"row_heading level0 row1\" >XGBoost</th>\n",
       "      <td id=\"T_8b42a_row1_col0\" class=\"data row1 col0\" >81.310000</td>\n",
       "      <td id=\"T_8b42a_row1_col1\" class=\"data row1 col1\" >0.130000</td>\n",
       "      <td id=\"T_8b42a_row1_col2\" class=\"data row1 col2\" >80.120000</td>\n",
       "      <td id=\"T_8b42a_row1_col3\" class=\"data row1 col3\" >0.780000</td>\n",
       "      <td id=\"T_8b42a_row1_col4\" class=\"data row1 col4\" >83.310000</td>\n",
       "      <td id=\"T_8b42a_row1_col5\" class=\"data row1 col5\" >1.210000</td>\n",
       "      <td id=\"T_8b42a_row1_col6\" class=\"data row1 col6\" >81.670000</td>\n",
       "      <td id=\"T_8b42a_row1_col7\" class=\"data row1 col7\" >0.280000</td>\n",
       "      <td id=\"T_8b42a_row1_col8\" class=\"data row1 col8\" >89.880000</td>\n",
       "      <td id=\"T_8b42a_row1_col9\" class=\"data row1 col9\" >0.140000</td>\n",
       "    </tr>\n",
       "  </tbody>\n",
       "</table>\n"
      ],
      "text/plain": [
       "<pandas.io.formats.style.Styler at 0x7fe7df1199d0>"
      ]
     },
     "execution_count": 46,
     "metadata": {},
     "output_type": "execute_result"
    }
   ],
   "source": [
    "model_results.style.background_gradient(axis=0)"
   ]
  },
  {
   "cell_type": "code",
   "execution_count": 47,
   "id": "aca66d08",
   "metadata": {},
   "outputs": [
    {
     "data": {
      "application/vnd.jupyter.widget-view+json": {
       "model_id": "67caed2a8c2640a29cdf2a906ded883d",
       "version_major": 2,
       "version_minor": 0
      },
      "text/plain": [
       "Tab(children=(Output(), Output()), _titles={'0': 'Random Forest', '1': 'XGBoost'})"
      ]
     },
     "metadata": {},
     "output_type": "display_data"
    }
   ],
   "source": [
    "sub_tab = [widgets.Output() for i in range(2)]\n",
    "tab = widgets.Tab(sub_tab)\n",
    "for i in range (2):\n",
    "\n",
    "    with sub_tab[i]:\n",
    "        \n",
    "        if i ==0 :\n",
    "            tab.set_title(i,\"Random Forest\")\n",
    "            classifier=model_list['Random Forest']\n",
    "\n",
    "            classifier.fit(X_train,y_train)\n",
    "            feature_importances_RF=pd.DataFrame(classifier.feature_importances_,\n",
    "                          index = X_train.columns, \n",
    "                          columns = [\"importance\"]).sort_values(\n",
    "                 \"importance\", \n",
    "                 ascending = False)\n",
    "\n",
    "            plt.figure(figsize=(20,9))\n",
    "            ax = sns.barplot(x=feature_importances_RF.index,y='importance', data=feature_importances_RF,\n",
    "                             palette='Paired')\n",
    "            ax.set_xticklabels(ax.get_xticklabels(),rotation = 30)\n",
    "\n",
    "            plt.show()\n",
    "\n",
    "        else:\n",
    "            tab.set_title(i,\"XGBoost\")\n",
    "            classifier=model_list['XGBoost']\n",
    "            d=classifier.get_booster().get_score(importance_type = 'gain')\n",
    "\n",
    "            index=[]\n",
    "            val=[]\n",
    "            for k,v in d.items():\n",
    "                index.append(k)\n",
    "                val.append(v)\n",
    "            feature_importances_GB = pd.DataFrame(val,columns = [\"importance\"],index=index).sort_values(\n",
    "                 \"importance\", \n",
    "                 ascending = False)\n",
    "\n",
    "            plt.figure(figsize=(20,9))\n",
    "            ax = sns.barplot(x=feature_importances_GB.index,y='importance', data=feature_importances_GB,\n",
    "                             palette='Paired')\n",
    "            ax.set_xticklabels(ax.get_xticklabels(),rotation = 30)\n",
    "\n",
    "            plt.show()\n",
    "\n",
    "display(tab)\n",
    "        "
   ]
  },
  {
   "cell_type": "code",
   "execution_count": 50,
   "id": "4ee93fcf",
   "metadata": {},
   "outputs": [
    {
     "data": {
      "application/vnd.jupyter.widget-view+json": {
       "model_id": "abce10db4220420d94ee2c7c0624972e",
       "version_major": 2,
       "version_minor": 0
      },
      "text/plain": [
       "Tab(children=(Output(), Output()), _titles={'0': 'Random Forest', '1': 'XGBoost'})"
      ]
     },
     "metadata": {},
     "output_type": "display_data"
    }
   ],
   "source": [
    "from sklearn.metrics import confusion_matrix\n",
    "\n",
    "sub_tab = [widgets.Output() for i in range(2)]\n",
    "tab = widgets.Tab(sub_tab)\n",
    "for i in range (2):\n",
    "\n",
    "    with sub_tab[i]:\n",
    "        \n",
    "        if i ==0 :\n",
    "            tab.set_title(i,\"Random Forest\")\n",
    "            classifier=model_list['Random Forest']\n",
    "            y_pred = classifier.predict(X_test)\n",
    "            cm = confusion_matrix(y_test, y_pred)\n",
    "\n",
    "            df_cm = pd.DataFrame(cm, index = (0, 1), columns = (0, 1))\n",
    "            plt.figure(figsize = (28,20))\n",
    "            fig, ax = plt.subplots()\n",
    "            sns.set(font_scale=1.4)\n",
    "            sns.heatmap(df_cm, annot=True, fmt='g'#,cmap=\"YlGnBu\" \n",
    "                       )\n",
    "            class_names=[0,1]\n",
    "            tick_marks = np.arange(len(class_names))\n",
    "            plt.tight_layout()\n",
    "            plt.title('Confusion matrix\\n', y=1.1)\n",
    "            plt.xticks(tick_marks, class_names)\n",
    "            plt.yticks(tick_marks, class_names)\n",
    "            ax.xaxis.set_label_position(\"top\")\n",
    "            plt.ylabel('Actual label\\n')\n",
    "            plt.xlabel('Predicted label\\n')\n",
    "            plt.show()\n",
    "\n",
    "        else:\n",
    "            tab.set_title(i,\"XGBoost\")\n",
    "            classifier=model_list['XGBoost']\n",
    "            y_pred = classifier.predict(X_test)\n",
    "            cm = confusion_matrix(y_test, y_pred)\n",
    "\n",
    "            df_cm = pd.DataFrame(cm, index = (0, 1), columns = (0, 1))\n",
    "            plt.figure(figsize = (28,20))\n",
    "            fig, ax = plt.subplots()\n",
    "            sns.set(font_scale=1.4)\n",
    "            sns.heatmap(df_cm, annot=True, fmt='g'#,cmap=\"YlGnBu\" \n",
    "                       )\n",
    "            class_names=[0,1]\n",
    "            tick_marks = np.arange(len(class_names))\n",
    "            plt.tight_layout()\n",
    "            plt.title('Confusion matrix\\n', y=1.1)\n",
    "            plt.xticks(tick_marks, class_names)\n",
    "            plt.yticks(tick_marks, class_names)\n",
    "            ax.xaxis.set_label_position(\"top\")\n",
    "            plt.ylabel('Actual label\\n')\n",
    "            plt.xlabel('Predicted label\\n')\n",
    "            plt.show()\n",
    "display(tab)\n",
    "        "
   ]
  },
  {
   "cell_type": "code",
   "execution_count": 51,
   "id": "798073f7",
   "metadata": {},
   "outputs": [],
   "source": [
    "classifier=model_list['Random Forest']\n",
    "y_pred = classifier.predict(X_test)\n",
    "confusion = confusion_matrix(y_test, y_pred)\n",
    "FN = confusion[1][0]\n",
    "TN = confusion[0][0]\n",
    "TP = confusion[1][1]\n",
    "FP = confusion[0][1]"
   ]
  },
  {
   "cell_type": "code",
   "execution_count": 52,
   "id": "01facc46",
   "metadata": {
    "scrolled": true
   },
   "outputs": [
    {
     "data": {
      "application/vnd.jupyter.widget-view+json": {
       "model_id": "cbae5ca60cf44182a819c003382575e4",
       "version_major": 2,
       "version_minor": 0
      },
      "text/plain": [
       "Tab(children=(Output(), Output()), _titles={'0': 'Random Forest', '1': 'XGBoost'})"
      ]
     },
     "metadata": {},
     "output_type": "display_data"
    }
   ],
   "source": [
    "sub_tab = [widgets.Output() for i in range(2)]\n",
    "tab = widgets.Tab(sub_tab)\n",
    "for i in range (2):\n",
    "\n",
    "    with sub_tab[i]:\n",
    "        \n",
    "        if i ==0 :\n",
    "            tab.set_title(i,\"Random Forest\")\n",
    "            classifier=model_list['Random Forest']\n",
    "            y_pred = classifier.predict(X_test)\n",
    "            confusion = confusion_matrix(y_test, y_pred)\n",
    "            FN = confusion[1][0]\n",
    "            TN = confusion[0][0]\n",
    "            TP = confusion[1][1]\n",
    "            FP = confusion[0][1]\n",
    "            plt.bar(['FN' , 'TN' , 'TP' , 'FP'],[FN,TN,TP,FP],color=['r','g','g','r'])\n",
    "            plt.show()\n",
    "\n",
    "        else:\n",
    "            tab.set_title(i,\"XGBoost\")\n",
    "            classifier=model_list['XGBoost']\n",
    "            y_pred = classifier.predict(X_test)\n",
    "            confusion = confusion_matrix(y_test, y_pred)\n",
    "            FN = confusion[1][0]\n",
    "            TN = confusion[0][0]\n",
    "            TP = confusion[1][1]\n",
    "            FP = confusion[0][1]\n",
    "            ax=plt.bar(['FN' , 'TN' , 'TP' , 'FP'],[FN,TN,TP,FP],color=['r','g','g','r'])\n",
    "            plt.show()\n",
    "display(tab)\n",
    "        "
   ]
  },
  {
   "cell_type": "code",
   "execution_count": 53,
   "id": "c40c056f",
   "metadata": {},
   "outputs": [
    {
     "data": {
      "application/vnd.jupyter.widget-view+json": {
       "model_id": "84bcbf11f8524e93ab21ef87eab2732b",
       "version_major": 2,
       "version_minor": 0
      },
      "text/plain": [
       "Tab(children=(Output(), Output()), _titles={'0': 'Random Forest', '1': 'XGBoost'})"
      ]
     },
     "metadata": {},
     "output_type": "display_data"
    }
   ],
   "source": [
    "from sklearn import metrics\n",
    "sub_tab = [widgets.Output() for i in range(2)]\n",
    "tab = widgets.Tab(sub_tab)\n",
    "for i in range (2):\n",
    "\n",
    "    with sub_tab[i]:\n",
    "        \n",
    "        if i ==0 :\n",
    "            tab.set_title(i,\"Random Forest\")\n",
    "            classifier=model_list['Random Forest']\n",
    "            y_pred = classifier.predict(X_test)\n",
    "            print(metrics.classification_report(y_test, y_pred))\n",
    "        else:\n",
    "            tab.set_title(i,\"XGBoost\")\n",
    "            classifier=model_list['XGBoost']\n",
    "            y_pred = classifier.predict(X_test)\n",
    "            print(metrics.classification_report(y_test, y_pred))\n",
    "display(tab)"
   ]
  },
  {
   "cell_type": "code",
   "execution_count": 54,
   "id": "145f9dab",
   "metadata": {},
   "outputs": [
    {
     "data": {
      "image/png": "[encoded data removed]",
      "text/plain": [
       "<Figure size 1080x504 with 1 Axes>"
      ]
     },
     "metadata": {},
     "output_type": "display_data"
    }
   ],
   "source": [
    "from sklearn.metrics import mean_squared_error\n",
    "rf = XGBClassifier(n_estimators=1,learning_rate= 0.03,random_state=1,\n",
    "                            use_label_encoder=False, eval_metric='logloss')\n",
    "\n",
    "mse_train=[]\n",
    "mse_test=[]\n",
    "for iter in range(0,170):\n",
    "    rf.fit(X_train, y_train)\n",
    "    y_train_predicted = rf.predict(X_train)\n",
    "    y_test_predicted = rf.predict(X_test)\n",
    "    mse_train1 = mean_squared_error(y_train, y_train_predicted)\n",
    "    mse_test1 = mean_squared_error(y_test, y_test_predicted)\n",
    "    mse_train.append(mse_train1)\n",
    "    mse_test.append(mse_test1)\n",
    "    rf.n_estimators += 1\n",
    "    \n",
    "fig = plt.figure(figsize=(15, 7))\n",
    "\n",
    "plt.plot(range(0,170),mse_train,label=\"train\")\n",
    "plt.plot(range(0,170),mse_test,label=\"test\")\n",
    "plt.legend()\n",
    "plt.show()"
   ]
  },
  {
   "cell_type": "code",
   "execution_count": 55,
   "id": "52b3003a",
   "metadata": {},
   "outputs": [
    {
     "data": {
      "image/png": "[encoded data removed]",
      "text/plain": [
       "<Figure size 1080x504 with 1 Axes>"
      ]
     },
     "metadata": {},
     "output_type": "display_data"
    }
   ],
   "source": [
    "from sklearn.metrics import mean_squared_error\n",
    "rf =    RandomForestClassifier(n_estimators=1,random_state=1,criterion= 'entropy')\n",
    "\n",
    "mse_train=[]\n",
    "mse_test=[]\n",
    "for iter in range(0,170):\n",
    "    rf.fit(X_train, y_train)\n",
    "    y_train_predicted = rf.predict(X_train)\n",
    "    y_test_predicted = rf.predict(X_test)\n",
    "    mse_train1 = mean_squared_error(y_train, y_train_predicted)\n",
    "    mse_test1 = mean_squared_error(y_test, y_test_predicted)\n",
    "    mse_train.append(mse_train1)\n",
    "    mse_test.append(mse_test1)\n",
    "    rf.n_estimators += 1\n",
    "    \n",
    "fig = plt.figure(figsize=(15, 7))\n",
    "\n",
    "plt.plot(range(0,170),mse_train,label=\"train\")\n",
    "plt.plot(range(0,170),mse_test,label=\"test\")\n",
    "plt.legend()\n",
    "plt.show()"
   ]
  },
  {
   "cell_type": "code",
   "execution_count": 56,
   "id": "216481fc",
   "metadata": {},
   "outputs": [
    {
     "data": {
      "text/html": [
       "<style>\n",
       "    .widget-label { min-width: 20ex !important; }\n",
       "    .widget-text { min-width: 60ex !important; }\n",
       "</style>"
      ],
      "text/plain": [
       "<IPython.core.display.HTML object>"
      ]
     },
     "metadata": {},
     "output_type": "display_data"
    },
    {
     "data": {
      "text/html": [
       "<script>\n",
       "code_show=true; \n",
       "function code_toggle() {\n",
       " if (code_show){\n",
       " $('div.input').hide();\n",
       "\n",
       " } else {\n",
       " $('div.input').show();\n",
       "\n",
       " }\n",
       " code_show = !code_show\n",
       "} \n",
       "//$( document ).ready(code_toggle);//commenting code disabling by default\n",
       "</script>\n",
       "<form action = \"javascript:code_toggle()\"><input type=\"submit\" value=\"Toggle Raw Code\"></form>"
      ],
      "text/plain": [
       "<IPython.core.display.HTML object>"
      ]
     },
     "execution_count": 56,
     "metadata": {},
     "output_type": "execute_result"
    }
   ],
   "source": [
    "# Provide the path to the yaml file relative to the working directory\n",
    "display(HTML('''<style>\n",
    "    .widget-label { min-width: 20ex !important; }\n",
    "    .widget-text { min-width: 60ex !important; }\n",
    "</style>'''))\n",
    "\n",
    "#Toggle Code\n",
    "HTML('''<script>\n",
    "code_show=true; \n",
    "function code_toggle() {\n",
    " if (code_show){\n",
    " $('div.input').hide();\n",
    "\n",
    " } else {\n",
    " $('div.input').show();\n",
    "\n",
    " }\n",
    " code_show = !code_show\n",
    "} \n",
    "//$( document ).ready(code_toggle);//commenting code disabling by default\n",
    "</script>\n",
    "<form action = \"javascript:code_toggle()\"><input type=\"submit\" value=\"Toggle Raw Code\"></form>''')"
   ]
  },
  {
   "cell_type": "code",
   "execution_count": null,
   "id": "f4c9206c",
   "metadata": {},
   "outputs": [],
   "source": []
  },
  {
   "cell_type": "code",
   "execution_count": null,
   "id": "500fee5f",
   "metadata": {},
   "outputs": [],
   "source": []
  },
  {
   "cell_type": "code",
   "execution_count": null,
   "id": "68808d50",
   "metadata": {},
   "outputs": [],
   "source": []
  }
 ],
 "metadata": {
  "kernelspec": {
   "display_name": "Python (myenv)",
   "language": "python",
   "name": "myenv"
  },
  "language_info": {
   "codemirror_mode": {
    "name": "ipython",
    "version": 3
   },
   "file_extension": ".py",
   "mimetype": "text/x-python",
   "name": "python",
   "nbconvert_exporter": "python",
   "pygments_lexer": "ipython3",
   "version": "3.8.5"
  }
 },
 "nbformat": 4,
 "nbformat_minor": 5
}
